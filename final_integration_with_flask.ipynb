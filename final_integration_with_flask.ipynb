{
  "nbformat": 4,
  "nbformat_minor": 0,
  "metadata": {
    "colab": {
      "name": "final_integration_with_flask.ipynb",
      "provenance": [],
      "collapsed_sections": []
    },
    "kernelspec": {
      "display_name": "Python 3",
      "name": "python3"
    }
  },
  "cells": [
    {
      "cell_type": "code",
      "metadata": {
        "colab": {
          "base_uri": "https://localhost:8080/"
        },
        "id": "Oo5uVgx8zMyM",
        "outputId": "24f379e5-1566-4fde-a49a-efc313295eff"
      },
      "source": [
        "!pip install tweet-preprocessor\r\n",
        "from google.colab import drive\r\n",
        "drive.mount('/content/drive')\r\n",
        "!pip install -U -q PyDrive\r\n",
        "from pydrive.auth import GoogleAuth\r\n",
        "from pydrive.drive import GoogleDrive \r\n",
        "from google.colab import auth \r\n",
        "from oauth2client.client import GoogleCredentials\r\n",
        "auth.authenticate_user()\r\n",
        "gauth = GoogleAuth()\r\n",
        "gauth.credentials = GoogleCredentials.get_application_default()\r\n",
        "drive = GoogleDrive(gauth)\r\n",
        "\r\n",
        "import keras\r\n",
        "import tweepy\r\n",
        "import pandas as pd\r\n",
        "import preprocessor as p\r\n",
        "import re\r\n",
        "import random\r\n",
        "import numpy as np\r\n",
        "import operator\r\n",
        "from keras.preprocessing.text import Tokenizer\r\n",
        "from keras.preprocessing.sequence import pad_sequences\r\n",
        "\r\n",
        "\r\n",
        "consumer_key = \"i89JroFRgQPxgWQRG0u72mmWL\" \r\n",
        "consumer_secret = \"pEJLfkncfCPiRM6xt70YP7Ov9wJtR1hH8pFf0z96MaD2Zw7qJW\" \r\n",
        "access_token = \"1319347150958985216-wGOvb5BpH0h0E8eLfHoT2vk6blTcPZ\" \r\n",
        "access_token_secret = \"BeCyKDTZtSdhvYub3cQRTEYBu6yBxfJllEQ0wmwPpQigY\" \r\n",
        "auth = tweepy.OAuthHandler(consumer_key, consumer_secret)\r\n",
        "auth.set_access_token(access_token, access_token_secret)\r\n",
        "api = tweepy.API(auth,wait_on_rate_limit=True)\r\n"
      ],
      "execution_count": null,
      "outputs": [
        {
          "output_type": "stream",
          "text": [
            "Collecting tweet-preprocessor\n",
            "  Downloading https://files.pythonhosted.org/packages/17/9d/71bd016a9edcef8860c607e531f30bd09b13103c7951ae73dd2bf174163c/tweet_preprocessor-0.6.0-py3-none-any.whl\n",
            "Installing collected packages: tweet-preprocessor\n",
            "Successfully installed tweet-preprocessor-0.6.0\n",
            "Drive already mounted at /content/drive; to attempt to forcibly remount, call drive.mount(\"/content/drive\", force_remount=True).\n"
          ],
          "name": "stdout"
        }
      ]
    },
    {
      "cell_type": "code",
      "metadata": {
        "id": "ELKabgIoHLD1"
      },
      "source": [
        "#rmodel\r\n",
        "file_obj1 = drive.CreateFile({'id': '1NpXiBXsc2asV_CA7GbFAK-8pemhgc6Tc'})\r\n",
        "file_obj1.GetContentFile('rmodel.h5')\r\n",
        "rmodel = keras.models.load_model('rmodel.h5')\r\n",
        "\r\n",
        "#cmodel\r\n",
        "file_obj2 = drive.CreateFile({'id': '1dqeQy8Ae8qF2vjgMwXypd3k-DjV35Zlo'})\r\n",
        "file_obj2.GetContentFile('cmodel.h5')\r\n",
        "cmodel = keras.models.load_model('cmodel.h5')"
      ],
      "execution_count": null,
      "outputs": []
    },
    {
      "cell_type": "code",
      "metadata": {
        "id": "nTMSjSLgUC9z"
      },
      "source": [
        "cmodel_labels=['assistance','stress','survivorsofabuse','almosthomeless','anxiety','relationships','food_pantry','ptsd','domesticviolence','homeless']\r\n",
        "rmodel_labels=['Safe to ignore','Concerned','Strongly Concerened']"
      ],
      "execution_count": null,
      "outputs": []
    },
    {
      "cell_type": "code",
      "metadata": {
        "id": "1vZKcKec6lXp"
      },
      "source": [
        "def extract_coordinates(row):\r\n",
        "    if row['Tweet Coordinates']:\r\n",
        "        return row['Tweet Coordinates']['coordinates']\r\n",
        "    else:\r\n",
        "        return None\r\n",
        "def extract_place(row):\r\n",
        "    if row['Place Info']:\r\n",
        "        return row['Place Info'].full_name\r\n",
        "    else:\r\n",
        "        return None\r\n",
        "\r\n",
        "def tokenization(text):\r\n",
        "    text = re.split('\\W+', text)\r\n",
        "    return text\r\n",
        "\r\n",
        "def pre_process_tweets(text):\r\n",
        "  text=p.clean(text)  \r\n",
        "  text = re.sub('[:@]', '',text)\r\n",
        "  return text"
      ],
      "execution_count": null,
      "outputs": []
    },
    {
      "cell_type": "code",
      "metadata": {
        "id": "A2aChyim6MwX"
      },
      "source": [
        "def detect_mental_health(user):\r\n",
        "  max_tweets = 150\r\n",
        "  tweets = tweepy.Cursor(api.user_timeline,id=user).items(max_tweets)\r\n",
        "  tweets_list = [[tweet.text, tweet.created_at, tweet.id_str, tweet.user.screen_name, tweet.coordinates, tweet.place, tweet.retweet_count, tweet.favorite_count, tweet.lang, tweet.source, tweet.in_reply_to_status_id_str, tweet.in_reply_to_user_id_str, tweet.is_quote_status] for tweet in tweets]\r\n",
        "  # Creation of dataframe from tweets_list\r\n",
        "  tweets_df = pd.DataFrame(tweets_list,columns=['Tweet Text', 'Tweet Datetime', 'Tweet Id', 'Twitter @ Name', 'Tweet Coordinates', 'Place Info', 'Retweets', 'Favorites', 'Language', 'Source', 'Replied Tweet Id', 'Replied Tweet User Id Str', 'Quote Status Bool'])\r\n",
        "  # Checks if there are coordinates attached to tweets, if so extracts them\r\n",
        "  tweets_df['Tweet Coordinates'] = tweets_df.apply(extract_coordinates,axis=1) \r\n",
        "  # Checks if there is place information available, if so extracts them\r\n",
        "  tweets_df['Place Info'] = tweets_df.apply(extract_place,axis=1)\r\n",
        "  tweets_df['Tweet Text']=tweets_df['Tweet Text'].apply(pre_process_tweets)\r\n",
        "  tweets_df['Tweet Datetime'] = pd.to_datetime(tweets_df['Tweet Datetime'])\r\n",
        "  df=pd.DataFrame()\r\n",
        "  df = (tweets_df.set_index('Tweet Datetime').between_time('21:00:00', '04:00:00').reset_index().reindex(columns=df.columns))\r\n",
        "  night_tweets=(len(df)/150)*100\r\n",
        "  tokenizer = Tokenizer(num_words=100000, filters='!\"#$%&()*+,-./:;<=>?@[\\]^_`{|}~', lower=True)\r\n",
        "  type_dict={}\r\n",
        "  severity_dict={}\r\n",
        "  for index,row in tweets_df.iterrows():\r\n",
        "    tweet=[row['Tweet Text']]\r\n",
        "    seq = tokenizer.texts_to_sequences(tweet)\r\n",
        "    padded = pad_sequences(seq, maxlen=600)\r\n",
        "    pred1 = cmodel.predict(padded)\r\n",
        "    pred2=rmodel.predict(padded)\r\n",
        "    alpha=cmodel_labels[np.argmax(pred1)]\r\n",
        "    beta=rmodel_labels[np.argmax(pred2)]\r\n",
        "    #alpha=random.choice(['anxiety and stress','relationship','domestic violence'])\r\n",
        "    #beta=random.choice(rmodel_labels)\r\n",
        "    if alpha in type_dict:\r\n",
        "      type_dict[alpha]+=1\r\n",
        "    else:\r\n",
        "      type_dict[alpha]=1\r\n",
        "\r\n",
        "    if beta in severity_dict:\r\n",
        "      severity_dict[beta]+=1\r\n",
        "    else:\r\n",
        "      severity_dict[beta]=1\r\n",
        "    a=max(type_dict.items(), key=operator.itemgetter(1))[0]\r\n",
        "    b=max(severity_dict.items(), key=operator.itemgetter(1))[0]\r\n",
        "    c=night_tweets\r\n",
        "    print(\"Type of deprssion: \",a)\r\n",
        "    print(\"Severity: \",b)\r\n",
        "    print(\"Percentage of tweets at night time:\",str(c)+\"%\")\r\n",
        "    return a,b,c\r\n",
        "\r\n",
        "\r\n",
        "\r\n",
        "\r\n",
        "\r\n",
        "\r\n",
        "\r\n"
      ],
      "execution_count": null,
      "outputs": []
    },
    {
      "cell_type": "code",
      "metadata": {
        "id": "wpQgdvNL8NDF",
        "colab": {
          "base_uri": "https://localhost:8080/"
        },
        "outputId": "a27b78d9-ffc7-43a4-9b38-d757604b034b"
      },
      "source": [
        "a,b,c=detect_mental_health('iam_kryystal')"
      ],
      "execution_count": null,
      "outputs": [
        {
          "output_type": "stream",
          "text": [
            "Type of deprssion:  anxiety\n",
            "Severity:  Concerned\n",
            "Percentage of tweets at night time: 2.0%\n"
          ],
          "name": "stdout"
        }
      ]
    },
    {
      "cell_type": "code",
      "metadata": {
        "id": "LQuB7YT2kXU-",
        "colab": {
          "base_uri": "https://localhost:8080/"
        },
        "outputId": "46a72f1e-1d61-4dd8-c7bd-1ce46f806daa"
      },
      "source": [
        "a,b,c"
      ],
      "execution_count": null,
      "outputs": [
        {
          "output_type": "execute_result",
          "data": {
            "text/plain": [
              "('anxiety', 'Concerned', 2.0)"
            ]
          },
          "metadata": {
            "tags": []
          },
          "execution_count": 7
        }
      ]
    },
    {
      "cell_type": "code",
      "metadata": {
        "id": "uOIjfAAz9Mxz",
        "colab": {
          "base_uri": "https://localhost:8080/",
          "height": 34
        },
        "outputId": "dba877b7-25b5-4bc0-9bae-175fb17e5b0d"
      },
      "source": [
        "from google.colab.output import eval_js\r\n",
        "print(eval_js(\"google.colab.kernel.proxyPort(5000)\"))\r\n"
      ],
      "execution_count": null,
      "outputs": [
        {
          "output_type": "stream",
          "text": [
            "https://o08xyhanqk-496ff2e9c6d22116-5000-colab.googleusercontent.com/\n"
          ],
          "name": "stdout"
        }
      ]
    },
    {
      "cell_type": "code",
      "metadata": {
        "id": "lUsa8z92D4ho"
      },
      "source": [
        ""
      ],
      "execution_count": null,
      "outputs": []
    },
    {
      "cell_type": "code",
      "metadata": {
        "id": "xCYdBZfIc6NI"
      },
      "source": [
        ""
      ],
      "execution_count": null,
      "outputs": []
    },
    {
      "cell_type": "code",
      "metadata": {
        "id": "MA8PaAyHWPSj"
      },
      "source": [
        ""
      ],
      "execution_count": null,
      "outputs": []
    },
    {
      "cell_type": "code",
      "metadata": {
        "id": "pXlYQiWDdf8A",
        "colab": {
          "base_uri": "https://localhost:8080/"
        },
        "outputId": "d60c75c3-3fc9-4aaa-a358-2de3a5b66edf"
      },
      "source": [
        "from flask import Flask, render_template, request\r\n",
        "from datetime import date \r\n",
        "from flask import session\r\n",
        "import math\r\n",
        "day=math.ceil(4.2)\r\n",
        "\r\n",
        "\r\n",
        "app = Flask(__name__, template_folder='drive/My Drive/template',static_folder='drive/My Drive/static')\r\n",
        "app.secret_key = \"super secret key\"\r\n",
        "@app.route(\"/\")\r\n",
        "def home():  \r\n",
        "  return render_template('login.html')\r\n",
        "\r\n",
        "@app.route('/form_login',methods=['POST','GET'])\r\n",
        "def login():\r\n",
        "  name1=request.form['username']\r\n",
        "  dep_type,severity,insomnia=detect_mental_health(name1)\r\n",
        "  day=100-insomnia\r\n",
        "  insomnia=math.ceil(insomnia)\r\n",
        "  day=math.ceil(day)\r\n",
        "  session['severity'] = severity\r\n",
        "  #'anxiety and stress','relationship issues','domestic violence' \r\n",
        "  return render_template('new_index.html',name_input=name1,dep_type=dep_type,severity=severity,insomnia=insomnia,day=day)\r\n",
        "\r\n",
        "@app.route(\"/contact\")\r\n",
        "def contact():  \r\n",
        "  severity = session.get('severity')\r\n",
        "  today = date.today() \r\n",
        "  d={'Safe to ignore':20,'Concerned':50,'Strongly Concerened':90}\r\n",
        "  l=[[today,56]]\r\n",
        "  return render_template('contact.html')\r\n",
        "\r\n",
        "\r\n",
        "@app.route(\"/connect\")\r\n",
        "def connect():\r\n",
        "  return render_template('connect.html')\r\n",
        "\r\n",
        "@app.route(\"/work\")\r\n",
        "def work():\r\n",
        "  return render_template('work.html')\r\n",
        "\r\n",
        "  \r\n",
        "if __name__ == \"__main__\":\r\n",
        "    app.run()"
      ],
      "execution_count": null,
      "outputs": [
        {
          "output_type": "stream",
          "text": [
            " * Serving Flask app \"__main__\" (lazy loading)\n",
            " * Environment: production\n",
            "\u001b[31m   WARNING: This is a development server. Do not use it in a production deployment.\u001b[0m\n",
            "\u001b[2m   Use a production WSGI server instead.\u001b[0m\n",
            " * Debug mode: off\n"
          ],
          "name": "stdout"
        },
        {
          "output_type": "stream",
          "text": [
            " * Running on http://127.0.0.1:5000/ (Press CTRL+C to quit)\n",
            "127.0.0.1 - - [25/Feb/2021 12:08:52] \"\u001b[37mGET / HTTP/1.1\u001b[0m\" 200 -\n",
            "127.0.0.1 - - [25/Feb/2021 12:08:54] \"\u001b[37mGET /static/bg1.png HTTP/1.1\u001b[0m\" 200 -\n",
            "127.0.0.1 - - [25/Feb/2021 12:08:54] \"\u001b[37mGET /static/avatar1.png HTTP/1.1\u001b[0m\" 200 -\n",
            "127.0.0.1 - - [25/Feb/2021 12:08:54] \"\u001b[37mGET /static/wave1.png HTTP/1.1\u001b[0m\" 200 -\n",
            "127.0.0.1 - - [25/Feb/2021 12:08:56] \"\u001b[33mGET /favicon.ico HTTP/1.1\u001b[0m\" 404 -\n",
            "127.0.0.1 - - [25/Feb/2021 12:13:42] \"\u001b[37mGET / HTTP/1.1\u001b[0m\" 200 -\n",
            "127.0.0.1 - - [25/Feb/2021 12:13:43] \"\u001b[37mGET /static/wave1.png HTTP/1.1\u001b[0m\" 200 -\n",
            "127.0.0.1 - - [25/Feb/2021 12:13:43] \"\u001b[37mGET /static/bg1.png HTTP/1.1\u001b[0m\" 200 -\n",
            "127.0.0.1 - - [25/Feb/2021 12:13:43] \"\u001b[37mGET /static/avatar1.png HTTP/1.1\u001b[0m\" 200 -\n",
            "127.0.0.1 - - [25/Feb/2021 12:13:47] \"\u001b[33mGET /favicon.ico HTTP/1.1\u001b[0m\" 404 -\n"
          ],
          "name": "stderr"
        },
        {
          "output_type": "stream",
          "text": [
            "Type of deprssion:  anxiety\n",
            "Severity:  Concerned\n",
            "Percentage of tweets at night time: 2.0%\n"
          ],
          "name": "stdout"
        },
        {
          "output_type": "stream",
          "text": [
            "127.0.0.1 - - [25/Feb/2021 12:14:11] \"\u001b[37mPOST /form_login HTTP/1.1\u001b[0m\" 200 -\n",
            "127.0.0.1 - - [25/Feb/2021 12:14:12] \"\u001b[37mPOST /form_login HTTP/1.1\u001b[0m\" 200 -\n"
          ],
          "name": "stderr"
        },
        {
          "output_type": "stream",
          "text": [
            "Type of deprssion:  anxiety\n",
            "Severity:  Concerned\n",
            "Percentage of tweets at night time: 2.0%\n"
          ],
          "name": "stdout"
        },
        {
          "output_type": "stream",
          "text": [
            "127.0.0.1 - - [25/Feb/2021 12:14:13] \"\u001b[33mGET /static/owl-carousel.min.css HTTP/1.1\u001b[0m\" 404 -\n",
            "127.0.0.1 - - [25/Feb/2021 12:14:13] \"\u001b[37mGET /static/aos.css HTTP/1.1\u001b[0m\" 200 -\n",
            "127.0.0.1 - - [25/Feb/2021 12:14:13] \"\u001b[37mGET /static/bootstrap.min.css HTTP/1.1\u001b[0m\" 200 -\n",
            "127.0.0.1 - - [25/Feb/2021 12:14:13] \"\u001b[37mGET /static/templatemo-digital-trend.css HTTP/1.1\u001b[0m\" 200 -\n",
            "127.0.0.1 - - [25/Feb/2021 12:14:14] \"\u001b[37mGET /static/font-awesome.min.css HTTP/1.1\u001b[0m\" 200 -\n",
            "127.0.0.1 - - [25/Feb/2021 12:14:14] \"\u001b[37mGET /static/owl.theme.default.min.css HTTP/1.1\u001b[0m\" 200 -\n",
            "127.0.0.1 - - [25/Feb/2021 12:14:15] \"\u001b[33mGET /fonts/Plain-Light.woff2 HTTP/1.1\u001b[0m\" 404 -\n",
            "127.0.0.1 - - [25/Feb/2021 12:14:15] \"\u001b[33mGET /fonts/Plain-Regular.woff2 HTTP/1.1\u001b[0m\" 404 -\n",
            "127.0.0.1 - - [25/Feb/2021 12:14:15] \"\u001b[37mGET /static/js/jquery.min.js HTTP/1.1\u001b[0m\" 200 -\n",
            "127.0.0.1 - - [25/Feb/2021 12:14:15] \"\u001b[33mGET /fonts/Plain-Light.woff HTTP/1.1\u001b[0m\" 404 -\n",
            "127.0.0.1 - - [25/Feb/2021 12:14:15] \"\u001b[37mGET /static/js/smoothscroll.js HTTP/1.1\u001b[0m\" 200 -\n",
            "127.0.0.1 - - [25/Feb/2021 12:14:15] \"\u001b[37mGET /static/js/custom.js HTTP/1.1\u001b[0m\" 200 -\n",
            "127.0.0.1 - - [25/Feb/2021 12:14:15] \"\u001b[33mGET /fonts/Plain-Regular.woff HTTP/1.1\u001b[0m\" 404 -\n",
            "127.0.0.1 - - [25/Feb/2021 12:14:16] \"\u001b[37mGET /static/js/owl.carousel.min.js HTTP/1.1\u001b[0m\" 200 -\n",
            "127.0.0.1 - - [25/Feb/2021 12:14:16] \"\u001b[37mGET /static/js/aos.js HTTP/1.1\u001b[0m\" 200 -\n",
            "127.0.0.1 - - [25/Feb/2021 12:14:16] \"\u001b[37mGET /static/working-girl.png HTTP/1.1\u001b[0m\" 200 -\n",
            "127.0.0.1 - - [25/Feb/2021 12:14:36] \"\u001b[37mGET /static/js/bootstrap.min.js HTTP/1.1\u001b[0m\" 200 -\n",
            "127.0.0.1 - - [25/Feb/2021 12:14:37] \"\u001b[33mGET /favicon.ico HTTP/1.1\u001b[0m\" 404 -\n"
          ],
          "name": "stderr"
        }
      ]
    },
    {
      "cell_type": "code",
      "metadata": {
        "id": "CCEXvGWadf-K"
      },
      "source": [
        ""
      ],
      "execution_count": null,
      "outputs": []
    },
    {
      "cell_type": "code",
      "metadata": {
        "id": "Bt7zwmspdgAV"
      },
      "source": [
        ""
      ],
      "execution_count": null,
      "outputs": []
    },
    {
      "cell_type": "code",
      "metadata": {
        "id": "FKoeMCKodgDw"
      },
      "source": [
        ""
      ],
      "execution_count": null,
      "outputs": []
    },
    {
      "cell_type": "code",
      "metadata": {
        "id": "F5Ac8EZ7dE94"
      },
      "source": [
        "#!pip install flask-ngrok"
      ],
      "execution_count": null,
      "outputs": []
    },
    {
      "cell_type": "code",
      "metadata": {
        "id": "MSmf3A64YD6Y"
      },
      "source": [
        "import smtplib  \r\n",
        "# creates SMTP session \r\n",
        "email = smtplib.SMTP('smtp.gmail.com', 587) \r\n",
        "  \r\n",
        "# TLS for security \r\n",
        "email.starttls() \r\n",
        "  \r\n",
        "# authentication\r\n",
        "# compiler gives an error for wrong credential. \r\n",
        "email.login(\"yamuna.17cs@kct.ac.in\", \"Anjushana@123\") \r\n",
        "  \r\n",
        "# message to be sent \r\n",
        "message = \"Critical situation\"\r\n",
        "  \r\n",
        "# sending the mail \r\n",
        "email.sendmail(\"yamuna.17cs@kct.ac.in\", \"yamunaravi36@gmail.com\", message) \r\n",
        "  \r\n",
        "# terminating the session \r\n",
        "email.quit()"
      ],
      "execution_count": null,
      "outputs": []
    },
    {
      "cell_type": "code",
      "metadata": {
        "id": "r5nl-gW6EEC4"
      },
      "source": [
        ""
      ],
      "execution_count": null,
      "outputs": []
    },
    {
      "cell_type": "code",
      "metadata": {
        "id": "jnVvpD8cEEeA"
      },
      "source": [
        ""
      ],
      "execution_count": null,
      "outputs": []
    },
    {
      "cell_type": "code",
      "metadata": {
        "id": "3FVgoFIYUZbP"
      },
      "source": [
        "d={'Safe to ignore':20,'Concerned':50,'Strongly Concerened':90}\r\n",
        "severity='Concerned'\r\n",
        "d[severity]"
      ],
      "execution_count": null,
      "outputs": []
    },
    {
      "cell_type": "code",
      "metadata": {
        "id": "BEyyE3Wnqlgs"
      },
      "source": [
        ""
      ],
      "execution_count": null,
      "outputs": []
    }
  ]
}