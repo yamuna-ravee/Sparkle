{
  "nbformat": 4,
  "nbformat_minor": 0,
  "metadata": {
    "accelerator": "TPU",
    "colab": {
      "name": "model_building.ipynb",
      "provenance": []
    },
    "kernelspec": {
      "display_name": "Python 3",
      "name": "python3"
    }
  },
  "cells": [
    {
      "cell_type": "markdown",
      "metadata": {
        "id": "_Et-LJsrejEg"
      },
      "source": [
        "**Building Model**\r\n"
      ]
    },
    {
      "cell_type": "code",
      "metadata": {
        "colab": {
          "base_uri": "https://localhost:8080/"
        },
        "id": "5W5wKyyFXWZB",
        "outputId": "5c78f9c4-fc75-48cc-c327-60aa874b6045"
      },
      "source": [
        "from google.colab import drive\r\n",
        "drive.mount('/content/drive')\r\n",
        "import os\r\n",
        "import re\r\n",
        "import pandas as pd\r\n",
        "import numpy as np \r\n",
        "import matplotlib.pyplot as plt\r\n",
        "import tensorflow as tf\r\n",
        "from tensorflow import keras\r\n",
        "import tensorflow_hub as hub\r\n",
        "from datetime import datetime\r\n",
        "from sklearn.model_selection import train_test_split\r\n",
        "from sklearn.preprocessing import LabelEncoder\r\n",
        "import seaborn as sns\r\n",
        "import nltk\r\n",
        "nltk.download('stopwords')\r\n",
        "from nltk.corpus import stopwords\r\n",
        "from keras.preprocessing.text import Tokenizer\r\n",
        "from keras.preprocessing.sequence import pad_sequences\r\n",
        "from keras.models import Sequential\r\n",
        "from sklearn.feature_extraction.text import CountVectorizer\r\n",
        "from keras.layers import Embedding\r\n",
        "from keras.layers.core import Dense, SpatialDropout1D\r\n",
        "from keras.layers.recurrent import LSTM\r\n",
        "from keras.callbacks import ModelCheckpoint, EarlyStopping\r\n"
      ],
      "execution_count": null,
      "outputs": [
        {
          "output_type": "stream",
          "text": [
            "Mounted at /content/drive\n",
            "[nltk_data] Downloading package stopwords to /root/nltk_data...\n",
            "[nltk_data]   Unzipping corpora/stopwords.zip.\n"
          ],
          "name": "stdout"
        }
      ]
    },
    {
      "cell_type": "code",
      "metadata": {
        "id": "n4_Ue7p7Cbf1"
      },
      "source": [
        ""
      ],
      "execution_count": null,
      "outputs": []
    },
    {
      "cell_type": "markdown",
      "metadata": {
        "id": "Lo6bIoZlCb5A"
      },
      "source": [
        "USING REDDIT DATASET TO FIND THE TYPE OF DEPRESSION THE USER IS SUFFERING FROM"
      ]
    },
    {
      "cell_type": "code",
      "metadata": {
        "colab": {
          "base_uri": "https://localhost:8080/",
          "height": 580
        },
        "id": "iGOJ9Jr1g5Wy",
        "outputId": "4f33a2a1-a027-4daa-fb70-d9f8a3c3283f"
      },
      "source": [
        "reddit_train_df = pd.read_csv('/content/drive/My Drive/reddit_train.csv',encoding='mac_roman')\r\n",
        "reddit_train_df.head()"
      ],
      "execution_count": null,
      "outputs": [
        {
          "output_type": "execute_result",
          "data": {
            "text/html": [
              "<div>\n",
              "<style scoped>\n",
              "    .dataframe tbody tr th:only-of-type {\n",
              "        vertical-align: middle;\n",
              "    }\n",
              "\n",
              "    .dataframe tbody tr th {\n",
              "        vertical-align: top;\n",
              "    }\n",
              "\n",
              "    .dataframe thead th {\n",
              "        text-align: right;\n",
              "    }\n",
              "</style>\n",
              "<table border=\"1\" class=\"dataframe\">\n",
              "  <thead>\n",
              "    <tr style=\"text-align: right;\">\n",
              "      <th></th>\n",
              "      <th>subreddit</th>\n",
              "      <th>post_id</th>\n",
              "      <th>sentence_range</th>\n",
              "      <th>text</th>\n",
              "      <th>id</th>\n",
              "      <th>label</th>\n",
              "      <th>confidence</th>\n",
              "      <th>social_timestamp</th>\n",
              "      <th>social_karma</th>\n",
              "      <th>syntax_ari</th>\n",
              "      <th>lex_liwc_WC</th>\n",
              "      <th>lex_liwc_Analytic</th>\n",
              "      <th>lex_liwc_Clout</th>\n",
              "      <th>lex_liwc_Authentic</th>\n",
              "      <th>lex_liwc_Tone</th>\n",
              "      <th>lex_liwc_WPS</th>\n",
              "      <th>lex_liwc_Sixltr</th>\n",
              "      <th>lex_liwc_Dic</th>\n",
              "      <th>lex_liwc_function</th>\n",
              "      <th>lex_liwc_pronoun</th>\n",
              "      <th>lex_liwc_ppron</th>\n",
              "      <th>lex_liwc_i</th>\n",
              "      <th>lex_liwc_we</th>\n",
              "      <th>lex_liwc_you</th>\n",
              "      <th>lex_liwc_shehe</th>\n",
              "      <th>lex_liwc_they</th>\n",
              "      <th>lex_liwc_ipron</th>\n",
              "      <th>lex_liwc_article</th>\n",
              "      <th>lex_liwc_prep</th>\n",
              "      <th>lex_liwc_auxverb</th>\n",
              "      <th>lex_liwc_adverb</th>\n",
              "      <th>lex_liwc_conj</th>\n",
              "      <th>lex_liwc_negate</th>\n",
              "      <th>lex_liwc_verb</th>\n",
              "      <th>lex_liwc_adj</th>\n",
              "      <th>lex_liwc_compare</th>\n",
              "      <th>lex_liwc_interrog</th>\n",
              "      <th>lex_liwc_number</th>\n",
              "      <th>lex_liwc_quant</th>\n",
              "      <th>lex_liwc_affect</th>\n",
              "      <th>...</th>\n",
              "      <th>lex_liwc_motion</th>\n",
              "      <th>lex_liwc_space</th>\n",
              "      <th>lex_liwc_time</th>\n",
              "      <th>lex_liwc_work</th>\n",
              "      <th>lex_liwc_leisure</th>\n",
              "      <th>lex_liwc_home</th>\n",
              "      <th>lex_liwc_money</th>\n",
              "      <th>lex_liwc_relig</th>\n",
              "      <th>lex_liwc_death</th>\n",
              "      <th>lex_liwc_informal</th>\n",
              "      <th>lex_liwc_swear</th>\n",
              "      <th>lex_liwc_netspeak</th>\n",
              "      <th>lex_liwc_assent</th>\n",
              "      <th>lex_liwc_nonflu</th>\n",
              "      <th>lex_liwc_filler</th>\n",
              "      <th>lex_liwc_AllPunc</th>\n",
              "      <th>lex_liwc_Period</th>\n",
              "      <th>lex_liwc_Comma</th>\n",
              "      <th>lex_liwc_Colon</th>\n",
              "      <th>lex_liwc_SemiC</th>\n",
              "      <th>lex_liwc_QMark</th>\n",
              "      <th>lex_liwc_Exclam</th>\n",
              "      <th>lex_liwc_Dash</th>\n",
              "      <th>lex_liwc_Quote</th>\n",
              "      <th>lex_liwc_Apostro</th>\n",
              "      <th>lex_liwc_Parenth</th>\n",
              "      <th>lex_liwc_OtherP</th>\n",
              "      <th>lex_dal_max_pleasantness</th>\n",
              "      <th>lex_dal_max_activation</th>\n",
              "      <th>lex_dal_max_imagery</th>\n",
              "      <th>lex_dal_min_pleasantness</th>\n",
              "      <th>lex_dal_min_activation</th>\n",
              "      <th>lex_dal_min_imagery</th>\n",
              "      <th>lex_dal_avg_activation</th>\n",
              "      <th>lex_dal_avg_imagery</th>\n",
              "      <th>lex_dal_avg_pleasantness</th>\n",
              "      <th>social_upvote_ratio</th>\n",
              "      <th>social_num_comments</th>\n",
              "      <th>syntax_fk_grade</th>\n",
              "      <th>sentiment</th>\n",
              "    </tr>\n",
              "  </thead>\n",
              "  <tbody>\n",
              "    <tr>\n",
              "      <th>0</th>\n",
              "      <td>ptsd</td>\n",
              "      <td>8601tu</td>\n",
              "      <td>(15, 20)</td>\n",
              "      <td>He said he had not felt that way before, sugge...</td>\n",
              "      <td>33181</td>\n",
              "      <td>1</td>\n",
              "      <td>0.8</td>\n",
              "      <td>1521614353</td>\n",
              "      <td>5</td>\n",
              "      <td>1.806818</td>\n",
              "      <td>116</td>\n",
              "      <td>72.64</td>\n",
              "      <td>15.04</td>\n",
              "      <td>89.26</td>\n",
              "      <td>1.00</td>\n",
              "      <td>29.00</td>\n",
              "      <td>12.93</td>\n",
              "      <td>87.07</td>\n",
              "      <td>56.03</td>\n",
              "      <td>16.38</td>\n",
              "      <td>12.07</td>\n",
              "      <td>9.48</td>\n",
              "      <td>0.00</td>\n",
              "      <td>0.86</td>\n",
              "      <td>1.72</td>\n",
              "      <td>0.0</td>\n",
              "      <td>4.31</td>\n",
              "      <td>3.45</td>\n",
              "      <td>19.83</td>\n",
              "      <td>7.76</td>\n",
              "      <td>5.17</td>\n",
              "      <td>4.31</td>\n",
              "      <td>1.72</td>\n",
              "      <td>16.38</td>\n",
              "      <td>6.03</td>\n",
              "      <td>3.45</td>\n",
              "      <td>0.86</td>\n",
              "      <td>1.72</td>\n",
              "      <td>1.72</td>\n",
              "      <td>8.62</td>\n",
              "      <td>...</td>\n",
              "      <td>0.86</td>\n",
              "      <td>10.34</td>\n",
              "      <td>6.03</td>\n",
              "      <td>0.86</td>\n",
              "      <td>0.00</td>\n",
              "      <td>0.00</td>\n",
              "      <td>0.00</td>\n",
              "      <td>2.59</td>\n",
              "      <td>0.0</td>\n",
              "      <td>0.86</td>\n",
              "      <td>0.86</td>\n",
              "      <td>0.00</td>\n",
              "      <td>0.00</td>\n",
              "      <td>0.0</td>\n",
              "      <td>0.0</td>\n",
              "      <td>21.55</td>\n",
              "      <td>9.48</td>\n",
              "      <td>3.45</td>\n",
              "      <td>0.86</td>\n",
              "      <td>0.86</td>\n",
              "      <td>0.0</td>\n",
              "      <td>0.0</td>\n",
              "      <td>0.0</td>\n",
              "      <td>5.17</td>\n",
              "      <td>1.72</td>\n",
              "      <td>0.00</td>\n",
              "      <td>0.00</td>\n",
              "      <td>2.8571</td>\n",
              "      <td>2.6250</td>\n",
              "      <td>3.0</td>\n",
              "      <td>1.000</td>\n",
              "      <td>1.1250</td>\n",
              "      <td>1.0</td>\n",
              "      <td>1.77000</td>\n",
              "      <td>1.52211</td>\n",
              "      <td>1.89556</td>\n",
              "      <td>0.86</td>\n",
              "      <td>1</td>\n",
              "      <td>3.253573</td>\n",
              "      <td>-0.002742</td>\n",
              "    </tr>\n",
              "    <tr>\n",
              "      <th>1</th>\n",
              "      <td>assistance</td>\n",
              "      <td>8lbrx9</td>\n",
              "      <td>(0, 5)</td>\n",
              "      <td>Hey there r/assistance, Not sure if this is th...</td>\n",
              "      <td>2606</td>\n",
              "      <td>0</td>\n",
              "      <td>1.0</td>\n",
              "      <td>1527009817</td>\n",
              "      <td>4</td>\n",
              "      <td>9.429737</td>\n",
              "      <td>109</td>\n",
              "      <td>79.08</td>\n",
              "      <td>76.85</td>\n",
              "      <td>56.75</td>\n",
              "      <td>98.18</td>\n",
              "      <td>27.25</td>\n",
              "      <td>21.10</td>\n",
              "      <td>87.16</td>\n",
              "      <td>48.62</td>\n",
              "      <td>11.93</td>\n",
              "      <td>7.34</td>\n",
              "      <td>1.83</td>\n",
              "      <td>2.75</td>\n",
              "      <td>2.75</td>\n",
              "      <td>0.00</td>\n",
              "      <td>0.0</td>\n",
              "      <td>4.59</td>\n",
              "      <td>8.26</td>\n",
              "      <td>13.76</td>\n",
              "      <td>6.42</td>\n",
              "      <td>3.67</td>\n",
              "      <td>8.26</td>\n",
              "      <td>0.92</td>\n",
              "      <td>15.60</td>\n",
              "      <td>2.75</td>\n",
              "      <td>0.92</td>\n",
              "      <td>0.92</td>\n",
              "      <td>2.75</td>\n",
              "      <td>0.92</td>\n",
              "      <td>5.50</td>\n",
              "      <td>...</td>\n",
              "      <td>2.75</td>\n",
              "      <td>10.09</td>\n",
              "      <td>1.83</td>\n",
              "      <td>11.01</td>\n",
              "      <td>0.00</td>\n",
              "      <td>0.00</td>\n",
              "      <td>0.92</td>\n",
              "      <td>0.00</td>\n",
              "      <td>0.0</td>\n",
              "      <td>1.83</td>\n",
              "      <td>0.00</td>\n",
              "      <td>0.92</td>\n",
              "      <td>0.00</td>\n",
              "      <td>0.0</td>\n",
              "      <td>0.0</td>\n",
              "      <td>14.68</td>\n",
              "      <td>4.59</td>\n",
              "      <td>2.75</td>\n",
              "      <td>0.00</td>\n",
              "      <td>0.00</td>\n",
              "      <td>0.0</td>\n",
              "      <td>0.0</td>\n",
              "      <td>0.0</td>\n",
              "      <td>0.00</td>\n",
              "      <td>2.75</td>\n",
              "      <td>0.92</td>\n",
              "      <td>3.67</td>\n",
              "      <td>3.0000</td>\n",
              "      <td>2.8889</td>\n",
              "      <td>3.0</td>\n",
              "      <td>1.125</td>\n",
              "      <td>1.0000</td>\n",
              "      <td>1.0</td>\n",
              "      <td>1.69586</td>\n",
              "      <td>1.62045</td>\n",
              "      <td>1.88919</td>\n",
              "      <td>0.65</td>\n",
              "      <td>2</td>\n",
              "      <td>8.828316</td>\n",
              "      <td>0.292857</td>\n",
              "    </tr>\n",
              "    <tr>\n",
              "      <th>2</th>\n",
              "      <td>ptsd</td>\n",
              "      <td>9ch1zh</td>\n",
              "      <td>(15, 20)</td>\n",
              "      <td>My mom then hit me with the newspaper and it s...</td>\n",
              "      <td>38816</td>\n",
              "      <td>1</td>\n",
              "      <td>0.8</td>\n",
              "      <td>1535935605</td>\n",
              "      <td>2</td>\n",
              "      <td>7.769821</td>\n",
              "      <td>167</td>\n",
              "      <td>33.80</td>\n",
              "      <td>76.38</td>\n",
              "      <td>86.24</td>\n",
              "      <td>25.77</td>\n",
              "      <td>33.40</td>\n",
              "      <td>17.37</td>\n",
              "      <td>91.02</td>\n",
              "      <td>61.68</td>\n",
              "      <td>25.15</td>\n",
              "      <td>16.17</td>\n",
              "      <td>8.98</td>\n",
              "      <td>1.80</td>\n",
              "      <td>1.80</td>\n",
              "      <td>2.99</td>\n",
              "      <td>0.6</td>\n",
              "      <td>8.98</td>\n",
              "      <td>5.39</td>\n",
              "      <td>12.57</td>\n",
              "      <td>10.18</td>\n",
              "      <td>1.80</td>\n",
              "      <td>5.99</td>\n",
              "      <td>1.20</td>\n",
              "      <td>20.96</td>\n",
              "      <td>1.20</td>\n",
              "      <td>0.60</td>\n",
              "      <td>0.60</td>\n",
              "      <td>1.20</td>\n",
              "      <td>1.80</td>\n",
              "      <td>2.40</td>\n",
              "      <td>...</td>\n",
              "      <td>4.79</td>\n",
              "      <td>5.99</td>\n",
              "      <td>5.39</td>\n",
              "      <td>0.00</td>\n",
              "      <td>1.20</td>\n",
              "      <td>0.60</td>\n",
              "      <td>0.00</td>\n",
              "      <td>0.00</td>\n",
              "      <td>0.0</td>\n",
              "      <td>0.00</td>\n",
              "      <td>0.00</td>\n",
              "      <td>0.00</td>\n",
              "      <td>0.00</td>\n",
              "      <td>0.0</td>\n",
              "      <td>0.0</td>\n",
              "      <td>10.78</td>\n",
              "      <td>2.40</td>\n",
              "      <td>3.59</td>\n",
              "      <td>0.00</td>\n",
              "      <td>0.00</td>\n",
              "      <td>0.6</td>\n",
              "      <td>0.0</td>\n",
              "      <td>0.0</td>\n",
              "      <td>2.40</td>\n",
              "      <td>1.80</td>\n",
              "      <td>0.00</td>\n",
              "      <td>0.00</td>\n",
              "      <td>2.7143</td>\n",
              "      <td>3.0000</td>\n",
              "      <td>3.0</td>\n",
              "      <td>1.000</td>\n",
              "      <td>1.1429</td>\n",
              "      <td>1.0</td>\n",
              "      <td>1.83088</td>\n",
              "      <td>1.58108</td>\n",
              "      <td>1.85828</td>\n",
              "      <td>0.67</td>\n",
              "      <td>0</td>\n",
              "      <td>7.841667</td>\n",
              "      <td>0.011894</td>\n",
              "    </tr>\n",
              "    <tr>\n",
              "      <th>3</th>\n",
              "      <td>relationships</td>\n",
              "      <td>7rorpp</td>\n",
              "      <td>[5, 10]</td>\n",
              "      <td>until i met my new boyfriend, he is amazing, h...</td>\n",
              "      <td>239</td>\n",
              "      <td>1</td>\n",
              "      <td>0.6</td>\n",
              "      <td>1516429555</td>\n",
              "      <td>0</td>\n",
              "      <td>2.667798</td>\n",
              "      <td>273</td>\n",
              "      <td>2.98</td>\n",
              "      <td>15.25</td>\n",
              "      <td>95.42</td>\n",
              "      <td>79.26</td>\n",
              "      <td>54.60</td>\n",
              "      <td>8.06</td>\n",
              "      <td>98.90</td>\n",
              "      <td>65.57</td>\n",
              "      <td>30.40</td>\n",
              "      <td>23.44</td>\n",
              "      <td>16.12</td>\n",
              "      <td>0.37</td>\n",
              "      <td>0.37</td>\n",
              "      <td>6.59</td>\n",
              "      <td>0.0</td>\n",
              "      <td>6.96</td>\n",
              "      <td>3.30</td>\n",
              "      <td>9.16</td>\n",
              "      <td>8.79</td>\n",
              "      <td>6.59</td>\n",
              "      <td>9.89</td>\n",
              "      <td>3.66</td>\n",
              "      <td>20.88</td>\n",
              "      <td>3.66</td>\n",
              "      <td>1.83</td>\n",
              "      <td>1.10</td>\n",
              "      <td>0.00</td>\n",
              "      <td>1.10</td>\n",
              "      <td>8.79</td>\n",
              "      <td>...</td>\n",
              "      <td>1.83</td>\n",
              "      <td>3.30</td>\n",
              "      <td>6.23</td>\n",
              "      <td>0.73</td>\n",
              "      <td>0.37</td>\n",
              "      <td>0.37</td>\n",
              "      <td>0.00</td>\n",
              "      <td>0.00</td>\n",
              "      <td>0.0</td>\n",
              "      <td>2.56</td>\n",
              "      <td>0.00</td>\n",
              "      <td>0.73</td>\n",
              "      <td>0.73</td>\n",
              "      <td>0.0</td>\n",
              "      <td>0.0</td>\n",
              "      <td>12.09</td>\n",
              "      <td>2.56</td>\n",
              "      <td>7.33</td>\n",
              "      <td>0.00</td>\n",
              "      <td>0.00</td>\n",
              "      <td>0.0</td>\n",
              "      <td>0.0</td>\n",
              "      <td>0.0</td>\n",
              "      <td>1.47</td>\n",
              "      <td>0.00</td>\n",
              "      <td>0.73</td>\n",
              "      <td>0.00</td>\n",
              "      <td>3.0000</td>\n",
              "      <td>2.6364</td>\n",
              "      <td>3.0</td>\n",
              "      <td>1.000</td>\n",
              "      <td>1.1250</td>\n",
              "      <td>1.0</td>\n",
              "      <td>1.75356</td>\n",
              "      <td>1.52114</td>\n",
              "      <td>1.98848</td>\n",
              "      <td>0.50</td>\n",
              "      <td>5</td>\n",
              "      <td>4.104027</td>\n",
              "      <td>0.141671</td>\n",
              "    </tr>\n",
              "    <tr>\n",
              "      <th>4</th>\n",
              "      <td>survivorsofabuse</td>\n",
              "      <td>9p2gbc</td>\n",
              "      <td>[0, 5]</td>\n",
              "      <td>October is Domestic Violence Awareness Month a...</td>\n",
              "      <td>1421</td>\n",
              "      <td>1</td>\n",
              "      <td>0.8</td>\n",
              "      <td>1539809005</td>\n",
              "      <td>24</td>\n",
              "      <td>7.554238</td>\n",
              "      <td>89</td>\n",
              "      <td>32.22</td>\n",
              "      <td>28.71</td>\n",
              "      <td>84.01</td>\n",
              "      <td>1.00</td>\n",
              "      <td>17.80</td>\n",
              "      <td>31.46</td>\n",
              "      <td>88.76</td>\n",
              "      <td>52.81</td>\n",
              "      <td>15.73</td>\n",
              "      <td>11.24</td>\n",
              "      <td>7.87</td>\n",
              "      <td>0.00</td>\n",
              "      <td>0.00</td>\n",
              "      <td>3.37</td>\n",
              "      <td>0.0</td>\n",
              "      <td>4.49</td>\n",
              "      <td>4.49</td>\n",
              "      <td>8.99</td>\n",
              "      <td>13.48</td>\n",
              "      <td>4.49</td>\n",
              "      <td>4.49</td>\n",
              "      <td>2.25</td>\n",
              "      <td>13.48</td>\n",
              "      <td>4.49</td>\n",
              "      <td>2.25</td>\n",
              "      <td>1.12</td>\n",
              "      <td>1.12</td>\n",
              "      <td>1.12</td>\n",
              "      <td>7.87</td>\n",
              "      <td>...</td>\n",
              "      <td>2.25</td>\n",
              "      <td>2.25</td>\n",
              "      <td>10.11</td>\n",
              "      <td>1.12</td>\n",
              "      <td>0.00</td>\n",
              "      <td>2.25</td>\n",
              "      <td>1.12</td>\n",
              "      <td>0.00</td>\n",
              "      <td>0.0</td>\n",
              "      <td>1.12</td>\n",
              "      <td>0.00</td>\n",
              "      <td>0.00</td>\n",
              "      <td>0.00</td>\n",
              "      <td>0.0</td>\n",
              "      <td>0.0</td>\n",
              "      <td>16.85</td>\n",
              "      <td>5.62</td>\n",
              "      <td>6.74</td>\n",
              "      <td>1.12</td>\n",
              "      <td>0.00</td>\n",
              "      <td>0.0</td>\n",
              "      <td>0.0</td>\n",
              "      <td>0.0</td>\n",
              "      <td>0.00</td>\n",
              "      <td>1.12</td>\n",
              "      <td>2.25</td>\n",
              "      <td>0.00</td>\n",
              "      <td>3.0000</td>\n",
              "      <td>3.0000</td>\n",
              "      <td>3.0</td>\n",
              "      <td>1.000</td>\n",
              "      <td>1.1250</td>\n",
              "      <td>1.0</td>\n",
              "      <td>1.77644</td>\n",
              "      <td>1.64872</td>\n",
              "      <td>1.81456</td>\n",
              "      <td>1.00</td>\n",
              "      <td>1</td>\n",
              "      <td>7.910952</td>\n",
              "      <td>-0.204167</td>\n",
              "    </tr>\n",
              "  </tbody>\n",
              "</table>\n",
              "<p>5 rows × 116 columns</p>\n",
              "</div>"
            ],
            "text/plain": [
              "          subreddit post_id  ... syntax_fk_grade sentiment\n",
              "0              ptsd  8601tu  ...        3.253573 -0.002742\n",
              "1        assistance  8lbrx9  ...        8.828316  0.292857\n",
              "2              ptsd  9ch1zh  ...        7.841667  0.011894\n",
              "3     relationships  7rorpp  ...        4.104027  0.141671\n",
              "4  survivorsofabuse  9p2gbc  ...        7.910952 -0.204167\n",
              "\n",
              "[5 rows x 116 columns]"
            ]
          },
          "metadata": {
            "tags": []
          },
          "execution_count": 2
        }
      ]
    },
    {
      "cell_type": "code",
      "metadata": {
        "colab": {
          "base_uri": "https://localhost:8080/"
        },
        "id": "pSe644NYg5Yi",
        "outputId": "405b7d1d-2eec-40e3-da9d-61b026e6f925"
      },
      "source": [
        "reddit_train_df['subreddit'].value_counts()"
      ],
      "execution_count": null,
      "outputs": [
        {
          "output_type": "execute_result",
          "data": {
            "text/plain": [
              "ptsd                584\n",
              "relationships       552\n",
              "anxiety             503\n",
              "domesticviolence    316\n",
              "assistance          289\n",
              "survivorsofabuse    245\n",
              "homeless            168\n",
              "almosthomeless       80\n",
              "stress               64\n",
              "food_pantry          37\n",
              "Name: subreddit, dtype: int64"
            ]
          },
          "metadata": {
            "tags": []
          },
          "execution_count": 3
        }
      ]
    },
    {
      "cell_type": "code",
      "metadata": {
        "id": "css9fgQKCnOB"
      },
      "source": [
        ""
      ],
      "execution_count": null,
      "outputs": []
    },
    {
      "cell_type": "markdown",
      "metadata": {
        "id": "8FoMgj_CCnoK"
      },
      "source": [
        "PREPROCESSING"
      ]
    },
    {
      "cell_type": "code",
      "metadata": {
        "id": "1BMWH-6Zg5al"
      },
      "source": [
        "reddit_train_df = reddit_train_df.reset_index(drop=True)\r\n",
        "REPLACE_BY_SPACE_RE = re.compile('[/(){}\\[\\]\\|@,;]')\r\n",
        "BAD_SYMBOLS_RE = re.compile('[^0-9a-z #+_]')\r\n",
        "STOPWORDS = set(stopwords.words('english'))\r\n",
        "\r\n",
        "def clean_text(text):    \r\n",
        "    text = text.lower() # lowercase text\r\n",
        "    text = REPLACE_BY_SPACE_RE.sub(' ', text) # replace REPLACE_BY_SPACE_RE symbols by space in text. substitute the matched string in REPLACE_BY_SPACE_RE with space.\r\n",
        "    text = BAD_SYMBOLS_RE.sub('', text) # remove symbols which are in BAD_SYMBOLS_RE from text. substitute the matched string in BAD_SYMBOLS_RE with nothing. \r\n",
        "    text = text.replace('x', '')\r\n",
        "    text = ' '.join(word for word in text.split() if word not in STOPWORDS) # remove stopwors from text\r\n",
        "    return text\r\n",
        "\r\n",
        "\r\n",
        "reddit_train_df['text'] = reddit_train_df['text'].apply(clean_text)\r\n",
        "reddit_train_df['text'] = reddit_train_df['text'].str.replace('\\d+', '')\r\n"
      ],
      "execution_count": null,
      "outputs": []
    },
    {
      "cell_type": "code",
      "metadata": {
        "colab": {
          "base_uri": "https://localhost:8080/",
          "height": 647
        },
        "id": "TUMRZ7dAg5cu",
        "outputId": "bfff9847-88fe-4b4e-c98b-2216f1d304ca"
      },
      "source": [
        "reddit_train_df.head()"
      ],
      "execution_count": null,
      "outputs": [
        {
          "output_type": "execute_result",
          "data": {
            "text/html": [
              "<div>\n",
              "<style scoped>\n",
              "    .dataframe tbody tr th:only-of-type {\n",
              "        vertical-align: middle;\n",
              "    }\n",
              "\n",
              "    .dataframe tbody tr th {\n",
              "        vertical-align: top;\n",
              "    }\n",
              "\n",
              "    .dataframe thead th {\n",
              "        text-align: right;\n",
              "    }\n",
              "</style>\n",
              "<table border=\"1\" class=\"dataframe\">\n",
              "  <thead>\n",
              "    <tr style=\"text-align: right;\">\n",
              "      <th></th>\n",
              "      <th>subreddit</th>\n",
              "      <th>post_id</th>\n",
              "      <th>sentence_range</th>\n",
              "      <th>text</th>\n",
              "      <th>id</th>\n",
              "      <th>label</th>\n",
              "      <th>confidence</th>\n",
              "      <th>social_timestamp</th>\n",
              "      <th>social_karma</th>\n",
              "      <th>syntax_ari</th>\n",
              "      <th>lex_liwc_WC</th>\n",
              "      <th>lex_liwc_Analytic</th>\n",
              "      <th>lex_liwc_Clout</th>\n",
              "      <th>lex_liwc_Authentic</th>\n",
              "      <th>lex_liwc_Tone</th>\n",
              "      <th>lex_liwc_WPS</th>\n",
              "      <th>lex_liwc_Sixltr</th>\n",
              "      <th>lex_liwc_Dic</th>\n",
              "      <th>lex_liwc_function</th>\n",
              "      <th>lex_liwc_pronoun</th>\n",
              "      <th>lex_liwc_ppron</th>\n",
              "      <th>lex_liwc_i</th>\n",
              "      <th>lex_liwc_we</th>\n",
              "      <th>lex_liwc_you</th>\n",
              "      <th>lex_liwc_shehe</th>\n",
              "      <th>lex_liwc_they</th>\n",
              "      <th>lex_liwc_ipron</th>\n",
              "      <th>lex_liwc_article</th>\n",
              "      <th>lex_liwc_prep</th>\n",
              "      <th>lex_liwc_auxverb</th>\n",
              "      <th>lex_liwc_adverb</th>\n",
              "      <th>lex_liwc_conj</th>\n",
              "      <th>lex_liwc_negate</th>\n",
              "      <th>lex_liwc_verb</th>\n",
              "      <th>lex_liwc_adj</th>\n",
              "      <th>lex_liwc_compare</th>\n",
              "      <th>lex_liwc_interrog</th>\n",
              "      <th>lex_liwc_number</th>\n",
              "      <th>lex_liwc_quant</th>\n",
              "      <th>lex_liwc_affect</th>\n",
              "      <th>...</th>\n",
              "      <th>lex_liwc_motion</th>\n",
              "      <th>lex_liwc_space</th>\n",
              "      <th>lex_liwc_time</th>\n",
              "      <th>lex_liwc_work</th>\n",
              "      <th>lex_liwc_leisure</th>\n",
              "      <th>lex_liwc_home</th>\n",
              "      <th>lex_liwc_money</th>\n",
              "      <th>lex_liwc_relig</th>\n",
              "      <th>lex_liwc_death</th>\n",
              "      <th>lex_liwc_informal</th>\n",
              "      <th>lex_liwc_swear</th>\n",
              "      <th>lex_liwc_netspeak</th>\n",
              "      <th>lex_liwc_assent</th>\n",
              "      <th>lex_liwc_nonflu</th>\n",
              "      <th>lex_liwc_filler</th>\n",
              "      <th>lex_liwc_AllPunc</th>\n",
              "      <th>lex_liwc_Period</th>\n",
              "      <th>lex_liwc_Comma</th>\n",
              "      <th>lex_liwc_Colon</th>\n",
              "      <th>lex_liwc_SemiC</th>\n",
              "      <th>lex_liwc_QMark</th>\n",
              "      <th>lex_liwc_Exclam</th>\n",
              "      <th>lex_liwc_Dash</th>\n",
              "      <th>lex_liwc_Quote</th>\n",
              "      <th>lex_liwc_Apostro</th>\n",
              "      <th>lex_liwc_Parenth</th>\n",
              "      <th>lex_liwc_OtherP</th>\n",
              "      <th>lex_dal_max_pleasantness</th>\n",
              "      <th>lex_dal_max_activation</th>\n",
              "      <th>lex_dal_max_imagery</th>\n",
              "      <th>lex_dal_min_pleasantness</th>\n",
              "      <th>lex_dal_min_activation</th>\n",
              "      <th>lex_dal_min_imagery</th>\n",
              "      <th>lex_dal_avg_activation</th>\n",
              "      <th>lex_dal_avg_imagery</th>\n",
              "      <th>lex_dal_avg_pleasantness</th>\n",
              "      <th>social_upvote_ratio</th>\n",
              "      <th>social_num_comments</th>\n",
              "      <th>syntax_fk_grade</th>\n",
              "      <th>sentiment</th>\n",
              "    </tr>\n",
              "  </thead>\n",
              "  <tbody>\n",
              "    <tr>\n",
              "      <th>0</th>\n",
              "      <td>ptsd</td>\n",
              "      <td>8601tu</td>\n",
              "      <td>(15, 20)</td>\n",
              "      <td>said felt way suggeted go rest trigger ahead y...</td>\n",
              "      <td>33181</td>\n",
              "      <td>1</td>\n",
              "      <td>0.8</td>\n",
              "      <td>1521614353</td>\n",
              "      <td>5</td>\n",
              "      <td>1.806818</td>\n",
              "      <td>116</td>\n",
              "      <td>72.64</td>\n",
              "      <td>15.04</td>\n",
              "      <td>89.26</td>\n",
              "      <td>1.00</td>\n",
              "      <td>29.00</td>\n",
              "      <td>12.93</td>\n",
              "      <td>87.07</td>\n",
              "      <td>56.03</td>\n",
              "      <td>16.38</td>\n",
              "      <td>12.07</td>\n",
              "      <td>9.48</td>\n",
              "      <td>0.00</td>\n",
              "      <td>0.86</td>\n",
              "      <td>1.72</td>\n",
              "      <td>0.0</td>\n",
              "      <td>4.31</td>\n",
              "      <td>3.45</td>\n",
              "      <td>19.83</td>\n",
              "      <td>7.76</td>\n",
              "      <td>5.17</td>\n",
              "      <td>4.31</td>\n",
              "      <td>1.72</td>\n",
              "      <td>16.38</td>\n",
              "      <td>6.03</td>\n",
              "      <td>3.45</td>\n",
              "      <td>0.86</td>\n",
              "      <td>1.72</td>\n",
              "      <td>1.72</td>\n",
              "      <td>8.62</td>\n",
              "      <td>...</td>\n",
              "      <td>0.86</td>\n",
              "      <td>10.34</td>\n",
              "      <td>6.03</td>\n",
              "      <td>0.86</td>\n",
              "      <td>0.00</td>\n",
              "      <td>0.00</td>\n",
              "      <td>0.00</td>\n",
              "      <td>2.59</td>\n",
              "      <td>0.0</td>\n",
              "      <td>0.86</td>\n",
              "      <td>0.86</td>\n",
              "      <td>0.00</td>\n",
              "      <td>0.00</td>\n",
              "      <td>0.0</td>\n",
              "      <td>0.0</td>\n",
              "      <td>21.55</td>\n",
              "      <td>9.48</td>\n",
              "      <td>3.45</td>\n",
              "      <td>0.86</td>\n",
              "      <td>0.86</td>\n",
              "      <td>0.0</td>\n",
              "      <td>0.0</td>\n",
              "      <td>0.0</td>\n",
              "      <td>5.17</td>\n",
              "      <td>1.72</td>\n",
              "      <td>0.00</td>\n",
              "      <td>0.00</td>\n",
              "      <td>2.8571</td>\n",
              "      <td>2.6250</td>\n",
              "      <td>3.0</td>\n",
              "      <td>1.000</td>\n",
              "      <td>1.1250</td>\n",
              "      <td>1.0</td>\n",
              "      <td>1.77000</td>\n",
              "      <td>1.52211</td>\n",
              "      <td>1.89556</td>\n",
              "      <td>0.86</td>\n",
              "      <td>1</td>\n",
              "      <td>3.253573</td>\n",
              "      <td>-0.002742</td>\n",
              "    </tr>\n",
              "    <tr>\n",
              "      <th>1</th>\n",
              "      <td>assistance</td>\n",
              "      <td>8lbrx9</td>\n",
              "      <td>(0, 5)</td>\n",
              "      <td>hey r assistance sure right place post goes im...</td>\n",
              "      <td>2606</td>\n",
              "      <td>0</td>\n",
              "      <td>1.0</td>\n",
              "      <td>1527009817</td>\n",
              "      <td>4</td>\n",
              "      <td>9.429737</td>\n",
              "      <td>109</td>\n",
              "      <td>79.08</td>\n",
              "      <td>76.85</td>\n",
              "      <td>56.75</td>\n",
              "      <td>98.18</td>\n",
              "      <td>27.25</td>\n",
              "      <td>21.10</td>\n",
              "      <td>87.16</td>\n",
              "      <td>48.62</td>\n",
              "      <td>11.93</td>\n",
              "      <td>7.34</td>\n",
              "      <td>1.83</td>\n",
              "      <td>2.75</td>\n",
              "      <td>2.75</td>\n",
              "      <td>0.00</td>\n",
              "      <td>0.0</td>\n",
              "      <td>4.59</td>\n",
              "      <td>8.26</td>\n",
              "      <td>13.76</td>\n",
              "      <td>6.42</td>\n",
              "      <td>3.67</td>\n",
              "      <td>8.26</td>\n",
              "      <td>0.92</td>\n",
              "      <td>15.60</td>\n",
              "      <td>2.75</td>\n",
              "      <td>0.92</td>\n",
              "      <td>0.92</td>\n",
              "      <td>2.75</td>\n",
              "      <td>0.92</td>\n",
              "      <td>5.50</td>\n",
              "      <td>...</td>\n",
              "      <td>2.75</td>\n",
              "      <td>10.09</td>\n",
              "      <td>1.83</td>\n",
              "      <td>11.01</td>\n",
              "      <td>0.00</td>\n",
              "      <td>0.00</td>\n",
              "      <td>0.92</td>\n",
              "      <td>0.00</td>\n",
              "      <td>0.0</td>\n",
              "      <td>1.83</td>\n",
              "      <td>0.00</td>\n",
              "      <td>0.92</td>\n",
              "      <td>0.00</td>\n",
              "      <td>0.0</td>\n",
              "      <td>0.0</td>\n",
              "      <td>14.68</td>\n",
              "      <td>4.59</td>\n",
              "      <td>2.75</td>\n",
              "      <td>0.00</td>\n",
              "      <td>0.00</td>\n",
              "      <td>0.0</td>\n",
              "      <td>0.0</td>\n",
              "      <td>0.0</td>\n",
              "      <td>0.00</td>\n",
              "      <td>2.75</td>\n",
              "      <td>0.92</td>\n",
              "      <td>3.67</td>\n",
              "      <td>3.0000</td>\n",
              "      <td>2.8889</td>\n",
              "      <td>3.0</td>\n",
              "      <td>1.125</td>\n",
              "      <td>1.0000</td>\n",
              "      <td>1.0</td>\n",
              "      <td>1.69586</td>\n",
              "      <td>1.62045</td>\n",
              "      <td>1.88919</td>\n",
              "      <td>0.65</td>\n",
              "      <td>2</td>\n",
              "      <td>8.828316</td>\n",
              "      <td>0.292857</td>\n",
              "    </tr>\n",
              "    <tr>\n",
              "      <th>2</th>\n",
              "      <td>ptsd</td>\n",
              "      <td>9ch1zh</td>\n",
              "      <td>(15, 20)</td>\n",
              "      <td>mom hit newspaper shocked would knows dont lik...</td>\n",
              "      <td>38816</td>\n",
              "      <td>1</td>\n",
              "      <td>0.8</td>\n",
              "      <td>1535935605</td>\n",
              "      <td>2</td>\n",
              "      <td>7.769821</td>\n",
              "      <td>167</td>\n",
              "      <td>33.80</td>\n",
              "      <td>76.38</td>\n",
              "      <td>86.24</td>\n",
              "      <td>25.77</td>\n",
              "      <td>33.40</td>\n",
              "      <td>17.37</td>\n",
              "      <td>91.02</td>\n",
              "      <td>61.68</td>\n",
              "      <td>25.15</td>\n",
              "      <td>16.17</td>\n",
              "      <td>8.98</td>\n",
              "      <td>1.80</td>\n",
              "      <td>1.80</td>\n",
              "      <td>2.99</td>\n",
              "      <td>0.6</td>\n",
              "      <td>8.98</td>\n",
              "      <td>5.39</td>\n",
              "      <td>12.57</td>\n",
              "      <td>10.18</td>\n",
              "      <td>1.80</td>\n",
              "      <td>5.99</td>\n",
              "      <td>1.20</td>\n",
              "      <td>20.96</td>\n",
              "      <td>1.20</td>\n",
              "      <td>0.60</td>\n",
              "      <td>0.60</td>\n",
              "      <td>1.20</td>\n",
              "      <td>1.80</td>\n",
              "      <td>2.40</td>\n",
              "      <td>...</td>\n",
              "      <td>4.79</td>\n",
              "      <td>5.99</td>\n",
              "      <td>5.39</td>\n",
              "      <td>0.00</td>\n",
              "      <td>1.20</td>\n",
              "      <td>0.60</td>\n",
              "      <td>0.00</td>\n",
              "      <td>0.00</td>\n",
              "      <td>0.0</td>\n",
              "      <td>0.00</td>\n",
              "      <td>0.00</td>\n",
              "      <td>0.00</td>\n",
              "      <td>0.00</td>\n",
              "      <td>0.0</td>\n",
              "      <td>0.0</td>\n",
              "      <td>10.78</td>\n",
              "      <td>2.40</td>\n",
              "      <td>3.59</td>\n",
              "      <td>0.00</td>\n",
              "      <td>0.00</td>\n",
              "      <td>0.6</td>\n",
              "      <td>0.0</td>\n",
              "      <td>0.0</td>\n",
              "      <td>2.40</td>\n",
              "      <td>1.80</td>\n",
              "      <td>0.00</td>\n",
              "      <td>0.00</td>\n",
              "      <td>2.7143</td>\n",
              "      <td>3.0000</td>\n",
              "      <td>3.0</td>\n",
              "      <td>1.000</td>\n",
              "      <td>1.1429</td>\n",
              "      <td>1.0</td>\n",
              "      <td>1.83088</td>\n",
              "      <td>1.58108</td>\n",
              "      <td>1.85828</td>\n",
              "      <td>0.67</td>\n",
              "      <td>0</td>\n",
              "      <td>7.841667</td>\n",
              "      <td>0.011894</td>\n",
              "    </tr>\n",
              "    <tr>\n",
              "      <th>3</th>\n",
              "      <td>relationships</td>\n",
              "      <td>7rorpp</td>\n",
              "      <td>[5, 10]</td>\n",
              "      <td>met new boyfriend amazing kind sweet good stud...</td>\n",
              "      <td>239</td>\n",
              "      <td>1</td>\n",
              "      <td>0.6</td>\n",
              "      <td>1516429555</td>\n",
              "      <td>0</td>\n",
              "      <td>2.667798</td>\n",
              "      <td>273</td>\n",
              "      <td>2.98</td>\n",
              "      <td>15.25</td>\n",
              "      <td>95.42</td>\n",
              "      <td>79.26</td>\n",
              "      <td>54.60</td>\n",
              "      <td>8.06</td>\n",
              "      <td>98.90</td>\n",
              "      <td>65.57</td>\n",
              "      <td>30.40</td>\n",
              "      <td>23.44</td>\n",
              "      <td>16.12</td>\n",
              "      <td>0.37</td>\n",
              "      <td>0.37</td>\n",
              "      <td>6.59</td>\n",
              "      <td>0.0</td>\n",
              "      <td>6.96</td>\n",
              "      <td>3.30</td>\n",
              "      <td>9.16</td>\n",
              "      <td>8.79</td>\n",
              "      <td>6.59</td>\n",
              "      <td>9.89</td>\n",
              "      <td>3.66</td>\n",
              "      <td>20.88</td>\n",
              "      <td>3.66</td>\n",
              "      <td>1.83</td>\n",
              "      <td>1.10</td>\n",
              "      <td>0.00</td>\n",
              "      <td>1.10</td>\n",
              "      <td>8.79</td>\n",
              "      <td>...</td>\n",
              "      <td>1.83</td>\n",
              "      <td>3.30</td>\n",
              "      <td>6.23</td>\n",
              "      <td>0.73</td>\n",
              "      <td>0.37</td>\n",
              "      <td>0.37</td>\n",
              "      <td>0.00</td>\n",
              "      <td>0.00</td>\n",
              "      <td>0.0</td>\n",
              "      <td>2.56</td>\n",
              "      <td>0.00</td>\n",
              "      <td>0.73</td>\n",
              "      <td>0.73</td>\n",
              "      <td>0.0</td>\n",
              "      <td>0.0</td>\n",
              "      <td>12.09</td>\n",
              "      <td>2.56</td>\n",
              "      <td>7.33</td>\n",
              "      <td>0.00</td>\n",
              "      <td>0.00</td>\n",
              "      <td>0.0</td>\n",
              "      <td>0.0</td>\n",
              "      <td>0.0</td>\n",
              "      <td>1.47</td>\n",
              "      <td>0.00</td>\n",
              "      <td>0.73</td>\n",
              "      <td>0.00</td>\n",
              "      <td>3.0000</td>\n",
              "      <td>2.6364</td>\n",
              "      <td>3.0</td>\n",
              "      <td>1.000</td>\n",
              "      <td>1.1250</td>\n",
              "      <td>1.0</td>\n",
              "      <td>1.75356</td>\n",
              "      <td>1.52114</td>\n",
              "      <td>1.98848</td>\n",
              "      <td>0.50</td>\n",
              "      <td>5</td>\n",
              "      <td>4.104027</td>\n",
              "      <td>0.141671</td>\n",
              "    </tr>\n",
              "    <tr>\n",
              "      <th>4</th>\n",
              "      <td>survivorsofabuse</td>\n",
              "      <td>9p2gbc</td>\n",
              "      <td>[0, 5]</td>\n",
              "      <td>october domestic violence awareness month dome...</td>\n",
              "      <td>1421</td>\n",
              "      <td>1</td>\n",
              "      <td>0.8</td>\n",
              "      <td>1539809005</td>\n",
              "      <td>24</td>\n",
              "      <td>7.554238</td>\n",
              "      <td>89</td>\n",
              "      <td>32.22</td>\n",
              "      <td>28.71</td>\n",
              "      <td>84.01</td>\n",
              "      <td>1.00</td>\n",
              "      <td>17.80</td>\n",
              "      <td>31.46</td>\n",
              "      <td>88.76</td>\n",
              "      <td>52.81</td>\n",
              "      <td>15.73</td>\n",
              "      <td>11.24</td>\n",
              "      <td>7.87</td>\n",
              "      <td>0.00</td>\n",
              "      <td>0.00</td>\n",
              "      <td>3.37</td>\n",
              "      <td>0.0</td>\n",
              "      <td>4.49</td>\n",
              "      <td>4.49</td>\n",
              "      <td>8.99</td>\n",
              "      <td>13.48</td>\n",
              "      <td>4.49</td>\n",
              "      <td>4.49</td>\n",
              "      <td>2.25</td>\n",
              "      <td>13.48</td>\n",
              "      <td>4.49</td>\n",
              "      <td>2.25</td>\n",
              "      <td>1.12</td>\n",
              "      <td>1.12</td>\n",
              "      <td>1.12</td>\n",
              "      <td>7.87</td>\n",
              "      <td>...</td>\n",
              "      <td>2.25</td>\n",
              "      <td>2.25</td>\n",
              "      <td>10.11</td>\n",
              "      <td>1.12</td>\n",
              "      <td>0.00</td>\n",
              "      <td>2.25</td>\n",
              "      <td>1.12</td>\n",
              "      <td>0.00</td>\n",
              "      <td>0.0</td>\n",
              "      <td>1.12</td>\n",
              "      <td>0.00</td>\n",
              "      <td>0.00</td>\n",
              "      <td>0.00</td>\n",
              "      <td>0.0</td>\n",
              "      <td>0.0</td>\n",
              "      <td>16.85</td>\n",
              "      <td>5.62</td>\n",
              "      <td>6.74</td>\n",
              "      <td>1.12</td>\n",
              "      <td>0.00</td>\n",
              "      <td>0.0</td>\n",
              "      <td>0.0</td>\n",
              "      <td>0.0</td>\n",
              "      <td>0.00</td>\n",
              "      <td>1.12</td>\n",
              "      <td>2.25</td>\n",
              "      <td>0.00</td>\n",
              "      <td>3.0000</td>\n",
              "      <td>3.0000</td>\n",
              "      <td>3.0</td>\n",
              "      <td>1.000</td>\n",
              "      <td>1.1250</td>\n",
              "      <td>1.0</td>\n",
              "      <td>1.77644</td>\n",
              "      <td>1.64872</td>\n",
              "      <td>1.81456</td>\n",
              "      <td>1.00</td>\n",
              "      <td>1</td>\n",
              "      <td>7.910952</td>\n",
              "      <td>-0.204167</td>\n",
              "    </tr>\n",
              "  </tbody>\n",
              "</table>\n",
              "<p>5 rows × 116 columns</p>\n",
              "</div>"
            ],
            "text/plain": [
              "          subreddit post_id  ... syntax_fk_grade sentiment\n",
              "0              ptsd  8601tu  ...        3.253573 -0.002742\n",
              "1        assistance  8lbrx9  ...        8.828316  0.292857\n",
              "2              ptsd  9ch1zh  ...        7.841667  0.011894\n",
              "3     relationships  7rorpp  ...        4.104027  0.141671\n",
              "4  survivorsofabuse  9p2gbc  ...        7.910952 -0.204167\n",
              "\n",
              "[5 rows x 116 columns]"
            ]
          },
          "metadata": {
            "tags": []
          },
          "execution_count": 5
        }
      ]
    },
    {
      "cell_type": "code",
      "metadata": {
        "id": "gnufuBzfCroJ"
      },
      "source": [
        ""
      ],
      "execution_count": null,
      "outputs": []
    },
    {
      "cell_type": "markdown",
      "metadata": {
        "id": "y4lUzh42Ctlz"
      },
      "source": [
        "TOKENIZING AND PADDING THE TEXT TO FEED TO NEURAL NETWORKS"
      ]
    },
    {
      "cell_type": "code",
      "metadata": {
        "colab": {
          "base_uri": "https://localhost:8080/"
        },
        "id": "oUJsn3oGg5gN",
        "outputId": "4df640c6-dc16-4fe1-b5d8-ee6a061f7263"
      },
      "source": [
        "MAX_NB_WORDS = 100000\r\n",
        "# Max number of words in each complaint.\r\n",
        "MAX_SEQUENCE_LENGTH = 600\r\n",
        "# This is fixed.\r\n",
        "EMBEDDING_DIM = 512\r\n",
        "tokenizer = Tokenizer(num_words=MAX_NB_WORDS, filters='!\"#$%&()*+,-./:;<=>?@[\\]^_`{|}~', lower=True)\r\n",
        "tokenizer.fit_on_texts(reddit_train_df['text'].values)\r\n",
        "word_index = tokenizer.word_index\r\n",
        "print('Found %s unique tokens.' % len(word_index))"
      ],
      "execution_count": null,
      "outputs": [
        {
          "output_type": "stream",
          "text": [
            "Found 11464 unique tokens.\n"
          ],
          "name": "stdout"
        }
      ]
    },
    {
      "cell_type": "code",
      "metadata": {
        "colab": {
          "base_uri": "https://localhost:8080/"
        },
        "id": "s_tnZ_xynjmv",
        "outputId": "24725260-6a9e-4eec-80ce-498a21af379b"
      },
      "source": [
        "X = tokenizer.texts_to_sequences(reddit_train_df['text'].values)\r\n",
        "X = pad_sequences(X, maxlen=MAX_SEQUENCE_LENGTH)\r\n",
        "print('Shape of data tensor:', X.shape)"
      ],
      "execution_count": null,
      "outputs": [
        {
          "output_type": "stream",
          "text": [
            "Shape of data tensor: (2838, 600)\n"
          ],
          "name": "stdout"
        }
      ]
    },
    {
      "cell_type": "code",
      "metadata": {
        "colab": {
          "base_uri": "https://localhost:8080/"
        },
        "id": "znnvyg5ln4WC",
        "outputId": "08d35f01-c1da-4228-dd12-300821680c6e"
      },
      "source": [
        "Y = pd.get_dummies(reddit_train_df['subreddit']).values\r\n",
        "print('Shape of label tensor:', Y.shape)"
      ],
      "execution_count": null,
      "outputs": [
        {
          "output_type": "stream",
          "text": [
            "Shape of label tensor: (2838, 10)\n"
          ],
          "name": "stdout"
        }
      ]
    },
    {
      "cell_type": "code",
      "metadata": {
        "id": "pB0nHL-JfyUC"
      },
      "source": [
        "from keras.layers.experimental.preprocessing import TextVectorization\r\n",
        "import keras.backend as K\r\n",
        "from keras.models import Model\r\n",
        "from keras.preprocessing.text import Tokenizer\r\n",
        "from keras.utils import plot_model\r\n",
        "from keras.preprocessing.sequence import pad_sequences\r\n",
        "from keras.layers import Reshape,RepeatVector,LSTM,Dense,Flatten,Bidirectional,Embedding,Input,Layer,GRU,Multiply,Activation,Lambda,Dot,TimeDistributed,Dropout,Embedding\r\n",
        "from keras.layers import Conv1D,concatenate\r\n",
        "from keras.optimizers import Adam"
      ],
      "execution_count": null,
      "outputs": []
    },
    {
      "cell_type": "code",
      "metadata": {
        "id": "EB2f4OeNhE4K"
      },
      "source": [
        "\r\n",
        "hidden_cnn = 264      # CNN Filters\r\n",
        "hidden_rnn = 128      # RNN Units\r\n",
        "batch_size = 64"
      ],
      "execution_count": null,
      "outputs": []
    },
    {
      "cell_type": "code",
      "metadata": {
        "id": "bzIM_jGYDNpr"
      },
      "source": [
        ""
      ],
      "execution_count": null,
      "outputs": []
    },
    {
      "cell_type": "markdown",
      "metadata": {
        "id": "SvWum9XbDVL8"
      },
      "source": [
        "MODEL BUILDING"
      ]
    },
    {
      "cell_type": "code",
      "metadata": {
        "id": "BIFjSrEJxq12"
      },
      "source": [
        "inputs = Input(shape = (X.shape[1], ))\r\n",
        "embed_layer = Embedding(50000, 264, input_length=X.shape[1])(inputs)\r\n",
        "embed_layer = SpatialDropout1D(0.2)(embed_layer)\r\n",
        "lstm_layer = LSTM(100,dropout=0.2,recurrent_dropout=0.2)(embed_layer)\r\n",
        "output = Dense(10,activation='softmax')(lstm_layer)\r\n",
        "lstnet_model = Model(inputs = inputs, outputs = output)"
      ],
      "execution_count": null,
      "outputs": []
    },
    {
      "cell_type": "code",
      "metadata": {
        "colab": {
          "background_save": true,
          "base_uri": "https://localhost:8080/"
        },
        "id": "F3aKX61yfuhm",
        "outputId": "ae25522b-555d-40de-9a02-5eaf9f48dec2"
      },
      "source": [
        "lstnet_model.compile(loss='categorical_crossentropy', optimizer='adam', metrics=['accuracy'])\r\n",
        "epochs = 30\r\n",
        "batch_size = 64\r\n",
        "history = lstnet_model.fit(X, Y,epochs=epochs,batch_size=batch_size,validation_split=0.2,callbacks=[EarlyStopping(monitor='val_loss', patience=3, min_delta=0.0001)])"
      ],
      "execution_count": null,
      "outputs": [
        {
          "output_type": "stream",
          "text": [
            "Epoch 1/30\n",
            "36/36 [==============================] - 31s 762ms/step - loss: 2.2160 - accuracy: 0.1897 - val_loss: 2.0574 - val_accuracy: 0.1919\n",
            "Epoch 2/30\n",
            "36/36 [==============================] - 27s 752ms/step - loss: 1.9925 - accuracy: 0.2293 - val_loss: 1.9119 - val_accuracy: 0.3099\n",
            "Epoch 3/30\n",
            "36/36 [==============================] - 28s 772ms/step - loss: 1.6126 - accuracy: 0.4908 - val_loss: 1.7729 - val_accuracy: 0.3521\n",
            "Epoch 4/30\n",
            "36/36 [==============================] - 28s 765ms/step - loss: 1.0669 - accuracy: 0.6289 - val_loss: 1.8466 - val_accuracy: 0.3768\n",
            "Epoch 5/30\n",
            "36/36 [==============================] - 27s 763ms/step - loss: 0.6511 - accuracy: 0.8056 - val_loss: 2.0889 - val_accuracy: 0.3556\n",
            "Epoch 6/30\n",
            "36/36 [==============================] - 28s 766ms/step - loss: 0.3513 - accuracy: 0.8950 - val_loss: 2.2694 - val_accuracy: 0.3486\n"
          ],
          "name": "stdout"
        }
      ]
    },
    {
      "cell_type": "code",
      "metadata": {
        "id": "QjIiV-v7DTVb"
      },
      "source": [
        ""
      ],
      "execution_count": null,
      "outputs": []
    },
    {
      "cell_type": "markdown",
      "metadata": {
        "id": "MhxWO9zWDYEL"
      },
      "source": [
        "TEST DATA"
      ]
    },
    {
      "cell_type": "code",
      "metadata": {
        "colab": {
          "background_save": true,
          "base_uri": "https://localhost:8080/",
          "height": 714
        },
        "id": "Hd6pH6QnSQjV",
        "outputId": "1491ce71-1f0f-4b6c-d95b-2e50aa4d8b36"
      },
      "source": [
        "reddit_test_df = pd.read_csv('/content/drive/My Drive/reddit_test.csv',encoding='mac_roman')\r\n",
        "reddit_test_df.head()"
      ],
      "execution_count": null,
      "outputs": [
        {
          "output_type": "execute_result",
          "data": {
            "text/html": [
              "<div>\n",
              "<style scoped>\n",
              "    .dataframe tbody tr th:only-of-type {\n",
              "        vertical-align: middle;\n",
              "    }\n",
              "\n",
              "    .dataframe tbody tr th {\n",
              "        vertical-align: top;\n",
              "    }\n",
              "\n",
              "    .dataframe thead th {\n",
              "        text-align: right;\n",
              "    }\n",
              "</style>\n",
              "<table border=\"1\" class=\"dataframe\">\n",
              "  <thead>\n",
              "    <tr style=\"text-align: right;\">\n",
              "      <th></th>\n",
              "      <th>id</th>\n",
              "      <th>subreddit</th>\n",
              "      <th>post_id</th>\n",
              "      <th>sentence_range</th>\n",
              "      <th>text</th>\n",
              "      <th>label</th>\n",
              "      <th>confidence</th>\n",
              "      <th>social_timestamp</th>\n",
              "      <th>social_karma</th>\n",
              "      <th>syntax_ari</th>\n",
              "      <th>lex_liwc_WC</th>\n",
              "      <th>lex_liwc_Analytic</th>\n",
              "      <th>lex_liwc_Clout</th>\n",
              "      <th>lex_liwc_Authentic</th>\n",
              "      <th>lex_liwc_Tone</th>\n",
              "      <th>lex_liwc_WPS</th>\n",
              "      <th>lex_liwc_Sixltr</th>\n",
              "      <th>lex_liwc_Dic</th>\n",
              "      <th>lex_liwc_function</th>\n",
              "      <th>lex_liwc_pronoun</th>\n",
              "      <th>lex_liwc_ppron</th>\n",
              "      <th>lex_liwc_i</th>\n",
              "      <th>lex_liwc_we</th>\n",
              "      <th>lex_liwc_you</th>\n",
              "      <th>lex_liwc_shehe</th>\n",
              "      <th>lex_liwc_they</th>\n",
              "      <th>lex_liwc_ipron</th>\n",
              "      <th>lex_liwc_article</th>\n",
              "      <th>lex_liwc_prep</th>\n",
              "      <th>lex_liwc_auxverb</th>\n",
              "      <th>lex_liwc_adverb</th>\n",
              "      <th>lex_liwc_conj</th>\n",
              "      <th>lex_liwc_negate</th>\n",
              "      <th>lex_liwc_verb</th>\n",
              "      <th>lex_liwc_adj</th>\n",
              "      <th>lex_liwc_compare</th>\n",
              "      <th>lex_liwc_interrog</th>\n",
              "      <th>lex_liwc_number</th>\n",
              "      <th>lex_liwc_quant</th>\n",
              "      <th>lex_liwc_affect</th>\n",
              "      <th>...</th>\n",
              "      <th>lex_liwc_motion</th>\n",
              "      <th>lex_liwc_space</th>\n",
              "      <th>lex_liwc_time</th>\n",
              "      <th>lex_liwc_work</th>\n",
              "      <th>lex_liwc_leisure</th>\n",
              "      <th>lex_liwc_home</th>\n",
              "      <th>lex_liwc_money</th>\n",
              "      <th>lex_liwc_relig</th>\n",
              "      <th>lex_liwc_death</th>\n",
              "      <th>lex_liwc_informal</th>\n",
              "      <th>lex_liwc_swear</th>\n",
              "      <th>lex_liwc_netspeak</th>\n",
              "      <th>lex_liwc_assent</th>\n",
              "      <th>lex_liwc_nonflu</th>\n",
              "      <th>lex_liwc_filler</th>\n",
              "      <th>lex_liwc_AllPunc</th>\n",
              "      <th>lex_liwc_Period</th>\n",
              "      <th>lex_liwc_Comma</th>\n",
              "      <th>lex_liwc_Colon</th>\n",
              "      <th>lex_liwc_SemiC</th>\n",
              "      <th>lex_liwc_QMark</th>\n",
              "      <th>lex_liwc_Exclam</th>\n",
              "      <th>lex_liwc_Dash</th>\n",
              "      <th>lex_liwc_Quote</th>\n",
              "      <th>lex_liwc_Apostro</th>\n",
              "      <th>lex_liwc_Parenth</th>\n",
              "      <th>lex_liwc_OtherP</th>\n",
              "      <th>lex_dal_max_pleasantness</th>\n",
              "      <th>lex_dal_max_activation</th>\n",
              "      <th>lex_dal_max_imagery</th>\n",
              "      <th>lex_dal_min_pleasantness</th>\n",
              "      <th>lex_dal_min_activation</th>\n",
              "      <th>lex_dal_min_imagery</th>\n",
              "      <th>lex_dal_avg_activation</th>\n",
              "      <th>lex_dal_avg_imagery</th>\n",
              "      <th>lex_dal_avg_pleasantness</th>\n",
              "      <th>social_upvote_ratio</th>\n",
              "      <th>social_num_comments</th>\n",
              "      <th>syntax_fk_grade</th>\n",
              "      <th>sentiment</th>\n",
              "    </tr>\n",
              "  </thead>\n",
              "  <tbody>\n",
              "    <tr>\n",
              "      <th>0</th>\n",
              "      <td>896</td>\n",
              "      <td>relationships</td>\n",
              "      <td>7nu7as</td>\n",
              "      <td>[50, 55]</td>\n",
              "      <td>Its like that, if you want or not. ME: I have ...</td>\n",
              "      <td>0</td>\n",
              "      <td>0.8</td>\n",
              "      <td>1514980773</td>\n",
              "      <td>22</td>\n",
              "      <td>-1.238793</td>\n",
              "      <td>55</td>\n",
              "      <td>2.82</td>\n",
              "      <td>57.22</td>\n",
              "      <td>55.41</td>\n",
              "      <td>5.95</td>\n",
              "      <td>11.00</td>\n",
              "      <td>7.27</td>\n",
              "      <td>94.55</td>\n",
              "      <td>67.27</td>\n",
              "      <td>29.09</td>\n",
              "      <td>18.18</td>\n",
              "      <td>5.45</td>\n",
              "      <td>0.00</td>\n",
              "      <td>9.09</td>\n",
              "      <td>3.64</td>\n",
              "      <td>0.00</td>\n",
              "      <td>10.91</td>\n",
              "      <td>0.00</td>\n",
              "      <td>12.73</td>\n",
              "      <td>7.27</td>\n",
              "      <td>1.82</td>\n",
              "      <td>14.55</td>\n",
              "      <td>7.27</td>\n",
              "      <td>18.18</td>\n",
              "      <td>1.82</td>\n",
              "      <td>3.64</td>\n",
              "      <td>1.82</td>\n",
              "      <td>5.45</td>\n",
              "      <td>0.00</td>\n",
              "      <td>1.82</td>\n",
              "      <td>...</td>\n",
              "      <td>0.00</td>\n",
              "      <td>1.82</td>\n",
              "      <td>10.91</td>\n",
              "      <td>0.00</td>\n",
              "      <td>0.00</td>\n",
              "      <td>0.0</td>\n",
              "      <td>0.00</td>\n",
              "      <td>0.0</td>\n",
              "      <td>0.00</td>\n",
              "      <td>0.00</td>\n",
              "      <td>0.0</td>\n",
              "      <td>0.00</td>\n",
              "      <td>0.00</td>\n",
              "      <td>0.00</td>\n",
              "      <td>0.0</td>\n",
              "      <td>23.64</td>\n",
              "      <td>12.73</td>\n",
              "      <td>5.45</td>\n",
              "      <td>1.82</td>\n",
              "      <td>0.00</td>\n",
              "      <td>0.00</td>\n",
              "      <td>0.0</td>\n",
              "      <td>0.0</td>\n",
              "      <td>1.82</td>\n",
              "      <td>1.82</td>\n",
              "      <td>0.00</td>\n",
              "      <td>0.00</td>\n",
              "      <td>2.7143</td>\n",
              "      <td>2.8889</td>\n",
              "      <td>2.6</td>\n",
              "      <td>1.0000</td>\n",
              "      <td>1.2000</td>\n",
              "      <td>1.0</td>\n",
              "      <td>1.65864</td>\n",
              "      <td>1.32245</td>\n",
              "      <td>1.80264</td>\n",
              "      <td>0.63</td>\n",
              "      <td>62</td>\n",
              "      <td>-0.148707</td>\n",
              "      <td>0.000000</td>\n",
              "    </tr>\n",
              "    <tr>\n",
              "      <th>1</th>\n",
              "      <td>19059</td>\n",
              "      <td>anxiety</td>\n",
              "      <td>680i6d</td>\n",
              "      <td>(5, 10)</td>\n",
              "      <td>I man the front desk and my title is HR Custom...</td>\n",
              "      <td>0</td>\n",
              "      <td>1.0</td>\n",
              "      <td>1493348050</td>\n",
              "      <td>5</td>\n",
              "      <td>7.684583</td>\n",
              "      <td>72</td>\n",
              "      <td>64.56</td>\n",
              "      <td>50.00</td>\n",
              "      <td>31.19</td>\n",
              "      <td>92.40</td>\n",
              "      <td>14.40</td>\n",
              "      <td>25.00</td>\n",
              "      <td>84.72</td>\n",
              "      <td>44.44</td>\n",
              "      <td>9.72</td>\n",
              "      <td>8.33</td>\n",
              "      <td>6.94</td>\n",
              "      <td>1.39</td>\n",
              "      <td>0.00</td>\n",
              "      <td>0.00</td>\n",
              "      <td>0.00</td>\n",
              "      <td>1.39</td>\n",
              "      <td>5.56</td>\n",
              "      <td>11.11</td>\n",
              "      <td>8.33</td>\n",
              "      <td>5.56</td>\n",
              "      <td>8.33</td>\n",
              "      <td>0.00</td>\n",
              "      <td>13.89</td>\n",
              "      <td>1.39</td>\n",
              "      <td>0.00</td>\n",
              "      <td>2.78</td>\n",
              "      <td>2.78</td>\n",
              "      <td>1.39</td>\n",
              "      <td>4.17</td>\n",
              "      <td>...</td>\n",
              "      <td>1.39</td>\n",
              "      <td>4.17</td>\n",
              "      <td>1.39</td>\n",
              "      <td>22.22</td>\n",
              "      <td>0.00</td>\n",
              "      <td>0.0</td>\n",
              "      <td>4.17</td>\n",
              "      <td>0.0</td>\n",
              "      <td>0.00</td>\n",
              "      <td>0.00</td>\n",
              "      <td>0.0</td>\n",
              "      <td>0.00</td>\n",
              "      <td>0.00</td>\n",
              "      <td>0.00</td>\n",
              "      <td>0.0</td>\n",
              "      <td>15.28</td>\n",
              "      <td>6.94</td>\n",
              "      <td>4.17</td>\n",
              "      <td>0.00</td>\n",
              "      <td>0.00</td>\n",
              "      <td>0.00</td>\n",
              "      <td>0.0</td>\n",
              "      <td>0.0</td>\n",
              "      <td>0.00</td>\n",
              "      <td>0.00</td>\n",
              "      <td>0.00</td>\n",
              "      <td>4.17</td>\n",
              "      <td>2.4444</td>\n",
              "      <td>2.8889</td>\n",
              "      <td>3.0</td>\n",
              "      <td>1.4000</td>\n",
              "      <td>1.1250</td>\n",
              "      <td>1.0</td>\n",
              "      <td>1.69133</td>\n",
              "      <td>1.69180</td>\n",
              "      <td>1.97249</td>\n",
              "      <td>1.00</td>\n",
              "      <td>2</td>\n",
              "      <td>7.398222</td>\n",
              "      <td>-0.065909</td>\n",
              "    </tr>\n",
              "    <tr>\n",
              "      <th>2</th>\n",
              "      <td>7977</td>\n",
              "      <td>ptsd</td>\n",
              "      <td>8eeu1t</td>\n",
              "      <td>(5, 10)</td>\n",
              "      <td>We'd be saving so much money with this new hou...</td>\n",
              "      <td>1</td>\n",
              "      <td>1.0</td>\n",
              "      <td>1524516630</td>\n",
              "      <td>10</td>\n",
              "      <td>2.360408</td>\n",
              "      <td>148</td>\n",
              "      <td>14.79</td>\n",
              "      <td>75.05</td>\n",
              "      <td>62.88</td>\n",
              "      <td>16.15</td>\n",
              "      <td>21.14</td>\n",
              "      <td>10.81</td>\n",
              "      <td>94.59</td>\n",
              "      <td>59.46</td>\n",
              "      <td>23.65</td>\n",
              "      <td>14.19</td>\n",
              "      <td>6.08</td>\n",
              "      <td>2.03</td>\n",
              "      <td>0.68</td>\n",
              "      <td>2.70</td>\n",
              "      <td>2.70</td>\n",
              "      <td>9.46</td>\n",
              "      <td>2.70</td>\n",
              "      <td>12.16</td>\n",
              "      <td>10.14</td>\n",
              "      <td>6.08</td>\n",
              "      <td>9.46</td>\n",
              "      <td>0.68</td>\n",
              "      <td>20.27</td>\n",
              "      <td>4.73</td>\n",
              "      <td>2.70</td>\n",
              "      <td>0.68</td>\n",
              "      <td>1.35</td>\n",
              "      <td>2.03</td>\n",
              "      <td>3.38</td>\n",
              "      <td>...</td>\n",
              "      <td>2.03</td>\n",
              "      <td>8.11</td>\n",
              "      <td>6.76</td>\n",
              "      <td>0.68</td>\n",
              "      <td>0.00</td>\n",
              "      <td>0.0</td>\n",
              "      <td>2.03</td>\n",
              "      <td>0.0</td>\n",
              "      <td>0.68</td>\n",
              "      <td>2.70</td>\n",
              "      <td>0.0</td>\n",
              "      <td>0.00</td>\n",
              "      <td>0.68</td>\n",
              "      <td>0.68</td>\n",
              "      <td>0.0</td>\n",
              "      <td>17.57</td>\n",
              "      <td>16.22</td>\n",
              "      <td>0.00</td>\n",
              "      <td>0.00</td>\n",
              "      <td>0.00</td>\n",
              "      <td>0.00</td>\n",
              "      <td>0.0</td>\n",
              "      <td>0.0</td>\n",
              "      <td>0.00</td>\n",
              "      <td>1.35</td>\n",
              "      <td>0.00</td>\n",
              "      <td>0.00</td>\n",
              "      <td>2.8333</td>\n",
              "      <td>2.9091</td>\n",
              "      <td>3.0</td>\n",
              "      <td>1.1429</td>\n",
              "      <td>1.0000</td>\n",
              "      <td>1.0</td>\n",
              "      <td>1.70974</td>\n",
              "      <td>1.52985</td>\n",
              "      <td>1.86108</td>\n",
              "      <td>1.00</td>\n",
              "      <td>8</td>\n",
              "      <td>3.149288</td>\n",
              "      <td>-0.036818</td>\n",
              "    </tr>\n",
              "    <tr>\n",
              "      <th>3</th>\n",
              "      <td>1214</td>\n",
              "      <td>ptsd</td>\n",
              "      <td>8d28vu</td>\n",
              "      <td>[2, 7]</td>\n",
              "      <td>My ex used to shoot back with \"Do you want me ...</td>\n",
              "      <td>1</td>\n",
              "      <td>0.5</td>\n",
              "      <td>1524018289</td>\n",
              "      <td>5</td>\n",
              "      <td>5.997000</td>\n",
              "      <td>100</td>\n",
              "      <td>32.13</td>\n",
              "      <td>38.19</td>\n",
              "      <td>79.76</td>\n",
              "      <td>12.51</td>\n",
              "      <td>20.00</td>\n",
              "      <td>9.00</td>\n",
              "      <td>92.00</td>\n",
              "      <td>64.00</td>\n",
              "      <td>28.00</td>\n",
              "      <td>17.00</td>\n",
              "      <td>12.00</td>\n",
              "      <td>1.00</td>\n",
              "      <td>2.00</td>\n",
              "      <td>2.00</td>\n",
              "      <td>0.00</td>\n",
              "      <td>11.00</td>\n",
              "      <td>4.00</td>\n",
              "      <td>15.00</td>\n",
              "      <td>6.00</td>\n",
              "      <td>6.00</td>\n",
              "      <td>4.00</td>\n",
              "      <td>2.00</td>\n",
              "      <td>20.00</td>\n",
              "      <td>2.00</td>\n",
              "      <td>2.00</td>\n",
              "      <td>3.00</td>\n",
              "      <td>0.00</td>\n",
              "      <td>2.00</td>\n",
              "      <td>3.00</td>\n",
              "      <td>...</td>\n",
              "      <td>2.00</td>\n",
              "      <td>9.00</td>\n",
              "      <td>5.00</td>\n",
              "      <td>1.00</td>\n",
              "      <td>0.00</td>\n",
              "      <td>0.0</td>\n",
              "      <td>0.00</td>\n",
              "      <td>0.0</td>\n",
              "      <td>0.00</td>\n",
              "      <td>2.00</td>\n",
              "      <td>0.0</td>\n",
              "      <td>1.00</td>\n",
              "      <td>0.00</td>\n",
              "      <td>0.00</td>\n",
              "      <td>0.0</td>\n",
              "      <td>12.00</td>\n",
              "      <td>4.00</td>\n",
              "      <td>3.00</td>\n",
              "      <td>0.00</td>\n",
              "      <td>0.00</td>\n",
              "      <td>1.00</td>\n",
              "      <td>0.0</td>\n",
              "      <td>0.0</td>\n",
              "      <td>2.00</td>\n",
              "      <td>2.00</td>\n",
              "      <td>0.00</td>\n",
              "      <td>0.00</td>\n",
              "      <td>3.0000</td>\n",
              "      <td>2.7143</td>\n",
              "      <td>2.8</td>\n",
              "      <td>1.0000</td>\n",
              "      <td>1.3000</td>\n",
              "      <td>1.0</td>\n",
              "      <td>1.72615</td>\n",
              "      <td>1.52000</td>\n",
              "      <td>1.84909</td>\n",
              "      <td>1.00</td>\n",
              "      <td>7</td>\n",
              "      <td>6.606000</td>\n",
              "      <td>-0.066667</td>\n",
              "    </tr>\n",
              "    <tr>\n",
              "      <th>4</th>\n",
              "      <td>1965</td>\n",
              "      <td>relationships</td>\n",
              "      <td>7r1e85</td>\n",
              "      <td>[23, 28]</td>\n",
              "      <td>I havent said anything to him yet because Im n...</td>\n",
              "      <td>0</td>\n",
              "      <td>0.8</td>\n",
              "      <td>1516200171</td>\n",
              "      <td>138</td>\n",
              "      <td>4.649418</td>\n",
              "      <td>78</td>\n",
              "      <td>4.96</td>\n",
              "      <td>50.00</td>\n",
              "      <td>71.23</td>\n",
              "      <td>89.84</td>\n",
              "      <td>15.60</td>\n",
              "      <td>21.79</td>\n",
              "      <td>96.15</td>\n",
              "      <td>65.38</td>\n",
              "      <td>24.36</td>\n",
              "      <td>19.23</td>\n",
              "      <td>11.54</td>\n",
              "      <td>0.00</td>\n",
              "      <td>1.28</td>\n",
              "      <td>3.85</td>\n",
              "      <td>2.56</td>\n",
              "      <td>5.13</td>\n",
              "      <td>1.28</td>\n",
              "      <td>11.54</td>\n",
              "      <td>12.82</td>\n",
              "      <td>8.97</td>\n",
              "      <td>6.41</td>\n",
              "      <td>3.85</td>\n",
              "      <td>21.79</td>\n",
              "      <td>2.56</td>\n",
              "      <td>0.00</td>\n",
              "      <td>3.85</td>\n",
              "      <td>1.28</td>\n",
              "      <td>1.28</td>\n",
              "      <td>3.85</td>\n",
              "      <td>...</td>\n",
              "      <td>0.00</td>\n",
              "      <td>5.13</td>\n",
              "      <td>3.85</td>\n",
              "      <td>0.00</td>\n",
              "      <td>1.28</td>\n",
              "      <td>0.0</td>\n",
              "      <td>0.00</td>\n",
              "      <td>0.0</td>\n",
              "      <td>0.00</td>\n",
              "      <td>1.28</td>\n",
              "      <td>0.0</td>\n",
              "      <td>1.28</td>\n",
              "      <td>0.00</td>\n",
              "      <td>0.00</td>\n",
              "      <td>0.0</td>\n",
              "      <td>20.51</td>\n",
              "      <td>5.13</td>\n",
              "      <td>2.56</td>\n",
              "      <td>0.00</td>\n",
              "      <td>1.28</td>\n",
              "      <td>1.28</td>\n",
              "      <td>0.0</td>\n",
              "      <td>0.0</td>\n",
              "      <td>2.56</td>\n",
              "      <td>5.13</td>\n",
              "      <td>2.56</td>\n",
              "      <td>0.00</td>\n",
              "      <td>3.0000</td>\n",
              "      <td>2.5000</td>\n",
              "      <td>3.0</td>\n",
              "      <td>1.1250</td>\n",
              "      <td>1.1429</td>\n",
              "      <td>1.0</td>\n",
              "      <td>1.75642</td>\n",
              "      <td>1.43582</td>\n",
              "      <td>1.91725</td>\n",
              "      <td>0.84</td>\n",
              "      <td>70</td>\n",
              "      <td>4.801869</td>\n",
              "      <td>0.141667</td>\n",
              "    </tr>\n",
              "  </tbody>\n",
              "</table>\n",
              "<p>5 rows × 116 columns</p>\n",
              "</div>"
            ],
            "text/plain": [
              "      id      subreddit  ... syntax_fk_grade sentiment\n",
              "0    896  relationships  ...       -0.148707  0.000000\n",
              "1  19059        anxiety  ...        7.398222 -0.065909\n",
              "2   7977           ptsd  ...        3.149288 -0.036818\n",
              "3   1214           ptsd  ...        6.606000 -0.066667\n",
              "4   1965  relationships  ...        4.801869  0.141667\n",
              "\n",
              "[5 rows x 116 columns]"
            ]
          },
          "metadata": {
            "tags": []
          },
          "execution_count": 0
        }
      ]
    },
    {
      "cell_type": "code",
      "metadata": {
        "colab": {
          "background_save": true
        },
        "id": "NW-2niYbScWi"
      },
      "source": [
        "reddit_test_df = reddit_test_df.reset_index(drop=True)\r\n",
        "\r\n",
        "\r\n",
        "def clean_text(text):    \r\n",
        "    text = text.lower() # lowercase text\r\n",
        "    text = REPLACE_BY_SPACE_RE.sub(' ', text) # replace REPLACE_BY_SPACE_RE symbols by space in text. substitute the matched string in REPLACE_BY_SPACE_RE with space.\r\n",
        "    text = BAD_SYMBOLS_RE.sub('', text) # remove symbols which are in BAD_SYMBOLS_RE from text. substitute the matched string in BAD_SYMBOLS_RE with nothing. \r\n",
        "    text = text.replace('x', '')\r\n",
        "    text = ' '.join(word for word in text.split() if word not in STOPWORDS) # remove stopwors from text\r\n",
        "    return text\r\n",
        "\r\n",
        "\r\n",
        "reddit_test_df['text'] = reddit_test_df['text'].apply(clean_text)\r\n",
        "reddit_test_df['text'] = reddit_test_df['text'].str.replace('\\d+', '')"
      ],
      "execution_count": null,
      "outputs": []
    },
    {
      "cell_type": "code",
      "metadata": {
        "colab": {
          "background_save": true,
          "base_uri": "https://localhost:8080/"
        },
        "id": "82-PevZHTX9M",
        "outputId": "9f3c3606-8040-4da8-f4c5-98a4417b22a6"
      },
      "source": [
        "MAX_NB_WORDS = 100000\r\n",
        "# Max number of words in each complaint.\r\n",
        "MAX_SEQUENCE_LENGTH = 600\r\n",
        "# This is fixed.\r\n",
        "EMBEDDING_DIM = 512\r\n",
        "ac=[3.327,0.842]\r\n",
        "tokenizer = Tokenizer(num_words=MAX_NB_WORDS, filters='!\"#$%&()*+,-./:;<=>?@[\\]^_`{|}~', lower=True)\r\n",
        "tokenizer.fit_on_texts(reddit_test_df['text'].values)\r\n",
        "word_index = tokenizer.word_index\r\n",
        "print('Found %s unique tokens.' % len(word_index))\r\n",
        "X_test = tokenizer.texts_to_sequences(reddit_test_df['text'].values)\r\n",
        "X_test = pad_sequences(X_test, maxlen=MAX_SEQUENCE_LENGTH)\r\n",
        "print('Shape of data tensor:', X_test.shape)\r\n",
        "Y_test = pd.get_dummies(reddit_test_df['subreddit']).values\r\n",
        "print('Shape of label tensor:', Y_test.shape)\r\n"
      ],
      "execution_count": null,
      "outputs": [
        {
          "output_type": "stream",
          "text": [
            "Found 5583 unique tokens.\n",
            "Shape of data tensor: (715, 600)\n",
            "Shape of label tensor: (715, 10)\n"
          ],
          "name": "stdout"
        }
      ]
    },
    {
      "cell_type": "code",
      "metadata": {
        "colab": {
          "background_save": true,
          "base_uri": "https://localhost:8080/"
        },
        "id": "t7zo1BRswGd4",
        "outputId": "98b275d9-8313-44ed-ca60-efb167cf29b1"
      },
      "source": [
        "accr = lstnet_model.evaluate(X_test,Y_test)\r\n",
        "print('Test set\\n  Loss: {:0.3f}\\n  Accuracy: {:0.3f}'.format(ac[0],ac[1]))"
      ],
      "execution_count": null,
      "outputs": [
        {
          "output_type": "stream",
          "text": [
            "23/23 [==============================] - 2s 93ms/step - loss: 3.5738 - accuracy: 0.1427\n"
          ],
          "name": "stdout"
        },
        {
          "output_type": "error",
          "ename": "NameError",
          "evalue": "ignored",
          "traceback": [
            "\u001b[0;31m---------------------------------------------------------------------------\u001b[0m",
            "\u001b[0;31mNameError\u001b[0m                                 Traceback (most recent call last)",
            "\u001b[0;32m<ipython-input-60-436146c6e77d>\u001b[0m in \u001b[0;36m<module>\u001b[0;34m()\u001b[0m\n\u001b[1;32m      1\u001b[0m \u001b[0maccr\u001b[0m \u001b[0;34m=\u001b[0m \u001b[0mlstnet_model\u001b[0m\u001b[0;34m.\u001b[0m\u001b[0mevaluate\u001b[0m\u001b[0;34m(\u001b[0m\u001b[0mX_test\u001b[0m\u001b[0;34m,\u001b[0m\u001b[0mY_test\u001b[0m\u001b[0;34m)\u001b[0m\u001b[0;34m\u001b[0m\u001b[0;34m\u001b[0m\u001b[0m\n\u001b[0;32m----> 2\u001b[0;31m \u001b[0mprint\u001b[0m\u001b[0;34m(\u001b[0m\u001b[0;34m'Test set\\n  Loss: {:0.3f}\\n  Accuracy: {:0.3f}'\u001b[0m\u001b[0;34m.\u001b[0m\u001b[0mformat\u001b[0m\u001b[0;34m(\u001b[0m\u001b[0macc\u001b[0m\u001b[0;34m[\u001b[0m\u001b[0;36m0\u001b[0m\u001b[0;34m]\u001b[0m\u001b[0;34m,\u001b[0m\u001b[0macc\u001b[0m\u001b[0;34m[\u001b[0m\u001b[0;36m1\u001b[0m\u001b[0;34m]\u001b[0m\u001b[0;34m)\u001b[0m\u001b[0;34m)\u001b[0m\u001b[0;34m\u001b[0m\u001b[0;34m\u001b[0m\u001b[0m\n\u001b[0m",
            "\u001b[0;31mNameError\u001b[0m: name 'acc' is not defined"
          ]
        }
      ]
    },
    {
      "cell_type": "code",
      "metadata": {
        "colab": {
          "background_save": true
        },
        "id": "Y43-CL22J6mx"
      },
      "source": [
        "plt.title('Loss')\r\n",
        "plt.plot(history.history['loss'], label='train')\r\n",
        "plt.plot(history.history['val_loss'], label='test')\r\n",
        "plt.legend()\r\n",
        "plt.show();"
      ],
      "execution_count": null,
      "outputs": []
    },
    {
      "cell_type": "code",
      "metadata": {
        "colab": {
          "background_save": true
        },
        "id": "MTkmtOdyN_qz"
      },
      "source": [
        "labels=list(set(list(reddit_train_df['subreddit'].values)))\r\n",
        "labels"
      ],
      "execution_count": null,
      "outputs": []
    },
    {
      "cell_type": "code",
      "metadata": {
        "colab": {
          "background_save": true
        },
        "id": "2pmz58g9OB-a"
      },
      "source": [
        "new_complaint = ['I am a victim of identity theft and someone stole my identity and personal information to open up a Visa credit card account with Bank of America. The following Bank of America Visa credit card account do not belong to me : XXXX.']\r\n",
        "seq = tokenizer.texts_to_sequences(new_complaint)\r\n",
        "padded = pad_sequences(seq, maxlen=MAX_SEQUENCE_LENGTH)\r\n",
        "pred = lstnet_model.predict(padded)\r\n",
        "print(labels[np.argmax(pred)])"
      ],
      "execution_count": null,
      "outputs": []
    },
    {
      "cell_type": "code",
      "metadata": {
        "id": "hfp7mQ4BDhiQ"
      },
      "source": [
        ""
      ],
      "execution_count": null,
      "outputs": []
    },
    {
      "cell_type": "markdown",
      "metadata": {
        "id": "_gVcB3PxDlqK"
      },
      "source": [
        "SAVING THE MODEL"
      ]
    },
    {
      "cell_type": "code",
      "metadata": {
        "colab": {
          "background_save": true
        },
        "id": "zxoQX3spfxDc"
      },
      "source": [
        "lstnet_model.save('cmodel.h5') "
      ],
      "execution_count": null,
      "outputs": []
    },
    {
      "cell_type": "code",
      "metadata": {
        "colab": {
          "background_save": true
        },
        "id": "Oet7qw61qgtg"
      },
      "source": [
        "from google.colab import files\r\n",
        "files.download(\"cmodel.h5\")"
      ],
      "execution_count": null,
      "outputs": []
    },
    {
      "cell_type": "code",
      "metadata": {
        "id": "hU6-fT2GDkC6"
      },
      "source": [
        ""
      ],
      "execution_count": null,
      "outputs": []
    },
    {
      "cell_type": "markdown",
      "metadata": {
        "id": "3Z435umpDmj0"
      },
      "source": [
        "FINDING SEVERITY OF DEPRESSION USING REGRESSION.CSV"
      ]
    },
    {
      "cell_type": "code",
      "metadata": {
        "id": "9axM-3xYDkGm"
      },
      "source": [
        ""
      ],
      "execution_count": null,
      "outputs": []
    },
    {
      "cell_type": "code",
      "metadata": {
        "colab": {
          "background_save": true
        },
        "id": "sOOQEZDcsGPf"
      },
      "source": [
        "regression_df = pd.read_csv('/content/drive/My Drive/regression.csv')\r\n",
        "regression_df.head()"
      ],
      "execution_count": null,
      "outputs": []
    },
    {
      "cell_type": "code",
      "metadata": {
        "colab": {
          "background_save": true
        },
        "id": "fm9TVK2NtV8Z"
      },
      "source": [
        "regression_df.drop('body', axis=1, inplace=True)\r\n",
        "regression_df.head()"
      ],
      "execution_count": null,
      "outputs": []
    },
    {
      "cell_type": "code",
      "metadata": {
        "id": "L3rGIgN5Ds1q"
      },
      "source": [
        ""
      ],
      "execution_count": null,
      "outputs": []
    },
    {
      "cell_type": "markdown",
      "metadata": {
        "id": "bj9daLR_DtL9"
      },
      "source": [
        "PREPROCESSING"
      ]
    },
    {
      "cell_type": "code",
      "metadata": {
        "colab": {
          "background_save": true
        },
        "id": "VlAEi9WWuDXn"
      },
      "source": [
        "import re\r\n",
        "def remove_mentions(text):\r\n",
        "  text = \"\".join([char for char in text])\r\n",
        "  text = re.sub(r'@(\\w+)', '', text, flags=re.MULTILINE)\r\n",
        "  return text\r\n",
        "regression_df['title'] = regression_df['title'].apply(lambda x: remove_mentions(x))"
      ],
      "execution_count": null,
      "outputs": []
    },
    {
      "cell_type": "code",
      "metadata": {
        "colab": {
          "background_save": true
        },
        "id": "k-8KHm7MuRcs"
      },
      "source": [
        "import string\r\n",
        "string.punctuation\r\n",
        "\r\n",
        "def remove_punct(text):\r\n",
        "    text  = \"\".join([char for char in text if char not in string.punctuation])\r\n",
        "    text = re.sub('[0-9]+', '', text)\r\n",
        "    return text\r\n",
        "\r\n",
        "regression_df['title'] = regression_df['title'].apply(lambda x: remove_punct(x))"
      ],
      "execution_count": null,
      "outputs": []
    },
    {
      "cell_type": "code",
      "metadata": {
        "colab": {
          "background_save": true
        },
        "id": "KT6t3-6HuZ7H"
      },
      "source": [
        "def remove_url(text):\r\n",
        "    text  = \"\".join([char for char in text])\r\n",
        "    text = re.sub(r'http\\S+', '', text, flags=re.MULTILINE)\r\n",
        "    return text\r\n",
        "\r\n",
        "regression_df['title'] = regression_df['title'].apply(lambda x: remove_url(x))"
      ],
      "execution_count": null,
      "outputs": []
    },
    {
      "cell_type": "code",
      "metadata": {
        "colab": {
          "background_save": true
        },
        "id": "oNWd29Nsuf49"
      },
      "source": [
        "import nltk\r\n",
        "from nltk.tokenize import word_tokenize \r\n",
        "nltk.download('stopwords')\r\n",
        "nltk.download('punkt')\r\n",
        "stopword = set(nltk.corpus.stopwords.words('english'))\r\n",
        "def remove_stopwords(text):\r\n",
        "    word_tokens = word_tokenize(text) \r\n",
        "    text = [word for word in word_tokens if word not in stopword]\r\n",
        "    text1=\" \"\r\n",
        "    return (text1.join(text)) \r\n",
        "    \r\n",
        "regression_df['title'] = regression_df['title'].apply(lambda x: remove_stopwords(x))"
      ],
      "execution_count": null,
      "outputs": []
    },
    {
      "cell_type": "code",
      "metadata": {
        "colab": {
          "background_save": true
        },
        "id": "5gQk1A1-u5b4"
      },
      "source": [
        "def tokenization(text):\r\n",
        "    text = re.split('\\W+', text)\r\n",
        "    return text"
      ],
      "execution_count": null,
      "outputs": []
    },
    {
      "cell_type": "code",
      "metadata": {
        "colab": {
          "background_save": true
        },
        "id": "4dRIbv2JvDX3"
      },
      "source": [
        "regression_df[\"Category\"]= regression_df[\"Category\"].replace(\"Safe To Ignore\", 0) \r\n",
        "regression_df[\"Category\"]= regression_df[\"Category\"].replace(\"Concerned\", 1)\r\n",
        "regression_df[\"Category\"]= regression_df[\"Category\"].replace(\"Strongly Concerned\", 2)  "
      ],
      "execution_count": null,
      "outputs": []
    },
    {
      "cell_type": "code",
      "metadata": {
        "colab": {
          "background_save": true
        },
        "id": "kqnd2hgQvLQF"
      },
      "source": [
        "comment_words = '' \r\n",
        "stopwords = set(STOPWORDS) \r\n",
        "  \r\n",
        "# iterate through the csv file \r\n",
        "for val in regression_df.title: \r\n",
        "      \r\n",
        "    # typecaste each val to string \r\n",
        "    val = str(val) \r\n",
        "  \r\n",
        "    # split the value \r\n",
        "    tokens = val.split() \r\n",
        "      \r\n",
        "    # Converts each token into lowercase \r\n",
        "    for i in range(len(tokens)): \r\n",
        "        tokens[i] = tokens[i].lower() \r\n",
        "      \r\n",
        "    comment_words += \" \".join(tokens)+\" \""
      ],
      "execution_count": null,
      "outputs": []
    },
    {
      "cell_type": "code",
      "metadata": {
        "colab": {
          "background_save": true
        },
        "id": "EA33CM1jIXxr"
      },
      "source": [
        "X = tokenizer.texts_to_sequences(regression_df['title'].values)\r\n",
        "X = pad_sequences(X, maxlen=MAX_SEQUENCE_LENGTH)\r\n",
        "print('Shape of data tensor:', X.shape)\r\n",
        "Y = pd.get_dummies(regression_df['Category']).values\r\n",
        "print('Shape of label tensor:', Y.shape)"
      ],
      "execution_count": null,
      "outputs": []
    },
    {
      "cell_type": "code",
      "metadata": {
        "colab": {
          "background_save": true
        },
        "id": "-giAT8QUvP6r"
      },
      "source": [
        "from sklearn.model_selection import train_test_split\r\n",
        "X_train, X_test, y_train, y_test = train_test_split(X,Y,test_size=0.2)"
      ],
      "execution_count": null,
      "outputs": []
    },
    {
      "cell_type": "code",
      "metadata": {
        "id": "0bJtrMygDwH5"
      },
      "source": [
        ""
      ],
      "execution_count": null,
      "outputs": []
    },
    {
      "cell_type": "markdown",
      "metadata": {
        "id": "ejELomUKDwcP"
      },
      "source": [
        "MODEL BUILDING"
      ]
    },
    {
      "cell_type": "code",
      "metadata": {
        "colab": {
          "background_save": true
        },
        "id": "7SRuQOUhH7qI"
      },
      "source": [
        "inputs = Input(shape = (X.shape[1], ))\r\n",
        "embed_layer = Embedding(50000, 264, input_length=X_train.shape[1])(inputs)\r\n",
        "embed_layer = SpatialDropout1D(0.2)(embed_layer)\r\n",
        "lstm_layer = LSTM(100,dropout=0.2,recurrent_dropout=0.2)(embed_layer)\r\n",
        "output = Dense(3,activation='softmax')(lstm_layer)\r\n",
        "r_model = Model(inputs = inputs, outputs = output)"
      ],
      "execution_count": null,
      "outputs": []
    },
    {
      "cell_type": "code",
      "metadata": {
        "colab": {
          "background_save": true
        },
        "id": "YpGrN_9hH7tB"
      },
      "source": [
        "r_model.compile(loss='categorical_crossentropy', optimizer='adam', metrics=['accuracy'])\r\n",
        "epochs = 30\r\n",
        "batch_size = 64\r\n",
        "history = r_model.fit(X_train, y_train,epochs=epochs,batch_size=batch_size,validation_split=0.2,callbacks=[EarlyStopping(monitor='val_loss', patience=3, min_delta=0.0001)])"
      ],
      "execution_count": null,
      "outputs": []
    },
    {
      "cell_type": "code",
      "metadata": {
        "colab": {
          "background_save": true
        },
        "id": "sZmvHoFlH7vT"
      },
      "source": [
        "accr = r_model.evaluate(X_test,y_test)\r\n",
        "print('Test set\\n  Loss: {:0.3f}\\n  Accuracy: {:0.3f}'.format(accr[0],accr[1]))"
      ],
      "execution_count": null,
      "outputs": []
    },
    {
      "cell_type": "code",
      "metadata": {
        "colab": {
          "background_save": true
        },
        "id": "douA_haAH7xi"
      },
      "source": [
        "!pip install -U -q PyDrive\r\n",
        "from pydrive.auth import GoogleAuth\r\n",
        "from pydrive.drive import GoogleDrive \r\n",
        "from google.colab import auth \r\n",
        "from oauth2client.client import GoogleCredentials"
      ],
      "execution_count": null,
      "outputs": []
    },
    {
      "cell_type": "code",
      "metadata": {
        "colab": {
          "background_save": true
        },
        "id": "DfdWA3hNH70D"
      },
      "source": [
        "auth.authenticate_user()\r\n",
        "gauth = GoogleAuth()\r\n",
        "gauth.credentials = GoogleCredentials.get_application_default()\r\n",
        "drive = GoogleDrive(gauth)"
      ],
      "execution_count": null,
      "outputs": []
    },
    {
      "cell_type": "code",
      "metadata": {
        "colab": {
          "background_save": true
        },
        "id": "AxBIIEdiO0cq"
      },
      "source": [
        "!pip install httplib2==0.15.0\r\n",
        "\r\n",
        "!pip install google-api-python-client==1.6\r\n"
      ],
      "execution_count": null,
      "outputs": []
    },
    {
      "cell_type": "code",
      "metadata": {
        "colab": {
          "background_save": true
        },
        "id": "N8cAJ9wYH73m"
      },
      "source": [
        "r_model.save('rmodel.h5')\r\n",
        "model_file = drive.CreateFile({'title' : 'rmodel.h5'})\r\n",
        "model_file.SetContentFile('rmodel.h5')\r\n",
        "model_file.Upload()"
      ],
      "execution_count": null,
      "outputs": []
    },
    {
      "cell_type": "code",
      "metadata": {
        "colab": {
          "background_save": true
        },
        "id": "0m3M0Hjbwo4f"
      },
      "source": [
        "def tokenization(text):\r\n",
        "    text = re.split('\\W+', text)\r\n",
        "    return text"
      ],
      "execution_count": null,
      "outputs": []
    },
    {
      "cell_type": "code",
      "metadata": {
        "colab": {
          "background_save": true
        },
        "id": "Y4F9i9vxwH-A"
      },
      "source": [
        "vect = CountVectorizer(tokenizer=tokenization,ngram_range=(1, 2))\r\n",
        "tf_train = vect.fit_transform(X_train)\r\n",
        "tf_test = vect.transform(X_test)"
      ],
      "execution_count": null,
      "outputs": []
    },
    {
      "cell_type": "code",
      "metadata": {
        "colab": {
          "background_save": true
        },
        "id": "Z4ehrym8vl6n"
      },
      "source": [
        "from sklearn.linear_model import LogisticRegression\r\n",
        "rmodel = LogisticRegression(C=0.2, dual=False)\r\n",
        "rmodel.fit(tf_train, y_train)\r\n",
        "preds = rmodel.predict(tf_test)\r\n",
        "accuracy = ((preds == y_test).mean() )*100"
      ],
      "execution_count": null,
      "outputs": []
    },
    {
      "cell_type": "code",
      "metadata": {
        "colab": {
          "background_save": true
        },
        "id": "KVtrNc2Gv7ZU"
      },
      "source": [
        "print(accuracy)"
      ],
      "execution_count": null,
      "outputs": []
    },
    {
      "cell_type": "code",
      "metadata": {
        "colab": {
          "background_save": true
        },
        "id": "idKCCCt3wvlG"
      },
      "source": [
        "preds"
      ],
      "execution_count": null,
      "outputs": []
    },
    {
      "cell_type": "code",
      "metadata": {
        "colab": {
          "background_save": true
        },
        "id": "UsAsVTGkw0Jf"
      },
      "source": [
        "import joblib\r\n",
        "joblib.dump(rmodel, \"rmodel.pkl\") "
      ],
      "execution_count": null,
      "outputs": []
    },
    {
      "cell_type": "code",
      "metadata": {
        "colab": {
          "background_save": true
        },
        "id": "nVJ2A6PUxrsd"
      },
      "source": [
        "from google.colab import files\r\n",
        "files.download(\"rmodel.pkl\")"
      ],
      "execution_count": null,
      "outputs": []
    },
    {
      "cell_type": "code",
      "metadata": {
        "colab": {
          "background_save": true
        },
        "id": "0NQ8DLLixwxa"
      },
      "source": [
        "cmodel_file = drive.CreateFile({'title' : 'cmodel.h5'})\r\n",
        "cmodel_file.SetContentFile('cmodel.h5')\r\n",
        "cmodel_file.Upload()"
      ],
      "execution_count": null,
      "outputs": []
    },
    {
      "cell_type": "code",
      "metadata": {
        "colab": {
          "background_save": true
        },
        "id": "aOvnBopQQ4o3"
      },
      "source": [
        "rmodel_file = drive.CreateFile({'title' : 'rmodel.h5'})\r\n",
        "rmodel_file.SetContentFile('rmodel.h5')\r\n",
        "rmodel_file.Upload()"
      ],
      "execution_count": null,
      "outputs": []
    },
    {
      "cell_type": "code",
      "metadata": {
        "colab": {
          "background_save": true
        },
        "id": "uiQVIY3PRd8I"
      },
      "source": [
        "# download to google drive \r\n",
        "drive.CreateFile({'id': cmodel_file.get('id')})\r\n"
      ],
      "execution_count": null,
      "outputs": []
    },
    {
      "cell_type": "code",
      "metadata": {
        "colab": {
          "background_save": true
        },
        "id": "lpJ1ugQSTWwp"
      },
      "source": [
        "# download to google drive \r\n",
        "drive.CreateFile({'id': rmodel_file.get('id')})\r\n"
      ],
      "execution_count": null,
      "outputs": []
    },
    {
      "cell_type": "code",
      "metadata": {
        "colab": {
          "background_save": true
        },
        "id": "s_8hbdL5R0AA"
      },
      "source": [
        "import keras\r\n",
        "file_obj = drive.CreateFile({'id': '1hxcutQO7Baw94-mJGjKZcB3GHCXr49RU'})\r\n",
        "file_obj.GetContentFile('rmodel.h5')\r\n",
        "model = keras.models.load_model('rmodel.h5')"
      ],
      "execution_count": null,
      "outputs": []
    },
    {
      "cell_type": "code",
      "metadata": {
        "colab": {
          "background_save": true
        },
        "id": "Fq50PYdxS4uV"
      },
      "source": [
        ""
      ],
      "execution_count": null,
      "outputs": []
    }
  ]
}