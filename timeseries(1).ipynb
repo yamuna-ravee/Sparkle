{
  "nbformat": 4,
  "nbformat_minor": 0,
  "metadata": {
    "colab": {
      "name": "timeseries.ipynb",
      "provenance": []
    },
    "kernelspec": {
      "display_name": "Python 3",
      "name": "python3"
    }
  },
  "cells": [
    {
      "cell_type": "code",
      "metadata": {
        "id": "ZvjN3zilCouk"
      },
      "source": [
        "import pandas as pd\r\n",
        "import tensorflow as tf\r\n",
        "from keras.models import Sequential\r\n",
        "from keras.layers import Dense\r\n",
        "from sklearn.model_selection import train_test_split\r\n",
        "from sklearn.metrics import mean_squared_error\r\n",
        "from sklearn.metrics import r2_score\r\n",
        "from sklearn.preprocessing import StandardScaler\r\n",
        "import matplotlib.pyplot as plt"
      ],
      "execution_count": null,
      "outputs": []
    },
    {
      "cell_type": "code",
      "metadata": {
        "id": "8WKgYK4iHvPo"
      },
      "source": [
        "!pip install -U -q PyDrive\r\n",
        "from pydrive.auth import GoogleAuth\r\n",
        "from pydrive.drive import GoogleDrive\r\n",
        "from google.colab import auth\r\n",
        "from oauth2client.client import GoogleCredentials"
      ],
      "execution_count": null,
      "outputs": []
    },
    {
      "cell_type": "code",
      "metadata": {
        "id": "ZWpC2J20H6F-"
      },
      "source": [
        "auth.authenticate_user()\r\n",
        "gauth = GoogleAuth()\r\n",
        "gauth.credentials = GoogleCredentials.get_application_default()\r\n",
        "drive = GoogleDrive(gauth)"
      ],
      "execution_count": null,
      "outputs": []
    },
    {
      "cell_type": "code",
      "metadata": {
        "id": "JOAtuIOVDG8w"
      },
      "source": [
        "link=\"https://drive.google.com/file/d/1IwbMhP1yx9hdZsmA2u6kvJJCHLJ0sC4U/view?usp=sharing\"\r\n",
        "id=\"1IwbMhP1yx9hdZsmA2u6kvJJCHLJ0sC4U\"\r\n",
        "d = drive.CreateFile({'id':id}) \r\n",
        "d.GetContentFile('timeseries.csv')\r\n",
        "df=pd.read_csv(\"timeseries.csv\")"
      ],
      "execution_count": null,
      "outputs": []
    },
    {
      "cell_type": "code",
      "metadata": {
        "id": "koapzyAi4NN8",
        "colab": {
          "base_uri": "https://localhost:8080/",
          "height": 400
        },
        "outputId": "175d2614-ebbf-432f-9690-ed4e0b8e72a8"
      },
      "source": [
        "df.head()"
      ],
      "execution_count": null,
      "outputs": [
        {
          "output_type": "execute_result",
          "data": {
            "text/html": [
              "<div>\n",
              "<style scoped>\n",
              "    .dataframe tbody tr th:only-of-type {\n",
              "        vertical-align: middle;\n",
              "    }\n",
              "\n",
              "    .dataframe tbody tr th {\n",
              "        vertical-align: top;\n",
              "    }\n",
              "\n",
              "    .dataframe thead th {\n",
              "        text-align: right;\n",
              "    }\n",
              "</style>\n",
              "<table border=\"1\" class=\"dataframe\">\n",
              "  <thead>\n",
              "    <tr style=\"text-align: right;\">\n",
              "      <th></th>\n",
              "      <th>Unnamed: 0</th>\n",
              "      <th>sn</th>\n",
              "      <th>Group</th>\n",
              "      <th>air_temp</th>\n",
              "      <th>max_temp</th>\n",
              "      <th>min_temp</th>\n",
              "      <th>RH</th>\n",
              "      <th>Max_rh</th>\n",
              "      <th>Min_rh</th>\n",
              "      <th>Wind_Speed_1</th>\n",
              "      <th>Wind_Dir_1</th>\n",
              "      <th>Wind_Speed_2</th>\n",
              "      <th>Wind_Dir_2</th>\n",
              "      <th>Solar_Rad</th>\n",
              "      <th>Diffuse_Rad</th>\n",
              "      <th>Dew_Pt</th>\n",
              "      <th>Batt_Voltage</th>\n",
              "      <th>date_time</th>\n",
              "      <th>Time</th>\n",
              "      <th>date</th>\n",
              "      <th>date_time_formatted</th>\n",
              "    </tr>\n",
              "  </thead>\n",
              "  <tbody>\n",
              "    <tr>\n",
              "      <th>0</th>\n",
              "      <td>0</td>\n",
              "      <td>1</td>\n",
              "      <td>1</td>\n",
              "      <td>27.822222</td>\n",
              "      <td>27.841111</td>\n",
              "      <td>27.715556</td>\n",
              "      <td>49.024444</td>\n",
              "      <td>49.562222</td>\n",
              "      <td>48.895556</td>\n",
              "      <td>4.833333</td>\n",
              "      <td>104.111111</td>\n",
              "      <td>3.555556</td>\n",
              "      <td>97.0</td>\n",
              "      <td>603.555556</td>\n",
              "      <td>563.333333</td>\n",
              "      <td>16.133333</td>\n",
              "      <td>14.1</td>\n",
              "      <td>01/02/ 2013    -    10:47</td>\n",
              "      <td>10:47</td>\n",
              "      <td>2013-02-01</td>\n",
              "      <td>2013-02-01 10:47</td>\n",
              "    </tr>\n",
              "    <tr>\n",
              "      <th>1</th>\n",
              "      <td>1</td>\n",
              "      <td>2</td>\n",
              "      <td>2</td>\n",
              "      <td>28.332000</td>\n",
              "      <td>28.350000</td>\n",
              "      <td>28.273000</td>\n",
              "      <td>47.903000</td>\n",
              "      <td>48.610000</td>\n",
              "      <td>47.614000</td>\n",
              "      <td>3.940000</td>\n",
              "      <td>107.200000</td>\n",
              "      <td>2.780000</td>\n",
              "      <td>120.3</td>\n",
              "      <td>615.300000</td>\n",
              "      <td>576.300000</td>\n",
              "      <td>16.234000</td>\n",
              "      <td>14.1</td>\n",
              "      <td>01/02/ 2013    -    10:59</td>\n",
              "      <td>10:59</td>\n",
              "      <td>2013-02-01</td>\n",
              "      <td>2013-02-01 10:59</td>\n",
              "    </tr>\n",
              "    <tr>\n",
              "      <th>2</th>\n",
              "      <td>2</td>\n",
              "      <td>3</td>\n",
              "      <td>3</td>\n",
              "      <td>28.450000</td>\n",
              "      <td>28.491000</td>\n",
              "      <td>28.429000</td>\n",
              "      <td>46.894000</td>\n",
              "      <td>47.140000</td>\n",
              "      <td>46.621000</td>\n",
              "      <td>5.640000</td>\n",
              "      <td>101.800000</td>\n",
              "      <td>4.150000</td>\n",
              "      <td>107.1</td>\n",
              "      <td>627.200000</td>\n",
              "      <td>589.200000</td>\n",
              "      <td>16.011000</td>\n",
              "      <td>14.1</td>\n",
              "      <td>01/02/ 2013    -    11:09</td>\n",
              "      <td>11:09</td>\n",
              "      <td>2013-02-01</td>\n",
              "      <td>2013-02-01 11:09</td>\n",
              "    </tr>\n",
              "    <tr>\n",
              "      <th>3</th>\n",
              "      <td>3</td>\n",
              "      <td>4</td>\n",
              "      <td>4</td>\n",
              "      <td>28.613000</td>\n",
              "      <td>28.622000</td>\n",
              "      <td>28.551000</td>\n",
              "      <td>46.444000</td>\n",
              "      <td>46.913000</td>\n",
              "      <td>46.157000</td>\n",
              "      <td>4.800000</td>\n",
              "      <td>109.000000</td>\n",
              "      <td>3.350000</td>\n",
              "      <td>121.5</td>\n",
              "      <td>635.300000</td>\n",
              "      <td>597.800000</td>\n",
              "      <td>16.006000</td>\n",
              "      <td>14.1</td>\n",
              "      <td>01/02/ 2013    -    11:19</td>\n",
              "      <td>11:19</td>\n",
              "      <td>2013-02-01</td>\n",
              "      <td>2013-02-01 11:19</td>\n",
              "    </tr>\n",
              "    <tr>\n",
              "      <th>4</th>\n",
              "      <td>4</td>\n",
              "      <td>5</td>\n",
              "      <td>5</td>\n",
              "      <td>28.850000</td>\n",
              "      <td>28.887000</td>\n",
              "      <td>28.820000</td>\n",
              "      <td>45.334000</td>\n",
              "      <td>45.709000</td>\n",
              "      <td>44.934000</td>\n",
              "      <td>5.920000</td>\n",
              "      <td>95.700000</td>\n",
              "      <td>4.270000</td>\n",
              "      <td>92.0</td>\n",
              "      <td>641.900000</td>\n",
              "      <td>606.200000</td>\n",
              "      <td>15.843000</td>\n",
              "      <td>14.1</td>\n",
              "      <td>01/02/ 2013    -    11:29</td>\n",
              "      <td>11:29</td>\n",
              "      <td>2013-02-01</td>\n",
              "      <td>2013-02-01 11:29</td>\n",
              "    </tr>\n",
              "  </tbody>\n",
              "</table>\n",
              "</div>"
            ],
            "text/plain": [
              "   Unnamed: 0  sn  Group  ...       Time        date  date_time_formatted\n",
              "0           0   1      1  ...      10:47  2013-02-01     2013-02-01 10:47\n",
              "1           1   2      2  ...      10:59  2013-02-01     2013-02-01 10:59\n",
              "2           2   3      3  ...      11:09  2013-02-01     2013-02-01 11:09\n",
              "3           3   4      4  ...      11:19  2013-02-01     2013-02-01 11:19\n",
              "4           4   5      5  ...      11:29  2013-02-01     2013-02-01 11:29\n",
              "\n",
              "[5 rows x 21 columns]"
            ]
          },
          "metadata": {
            "tags": []
          },
          "execution_count": 5
        }
      ]
    },
    {
      "cell_type": "code",
      "metadata": {
        "colab": {
          "base_uri": "https://localhost:8080/",
          "height": 383
        },
        "id": "E0xRj-TuIwIB",
        "outputId": "063f4337-9d68-4064-a98e-982c66420085"
      },
      "source": [
        "df=df.drop(df.iloc[:,0:9],axis=1)\r\n",
        "df.head()"
      ],
      "execution_count": null,
      "outputs": [
        {
          "output_type": "execute_result",
          "data": {
            "text/html": [
              "<div>\n",
              "<style scoped>\n",
              "    .dataframe tbody tr th:only-of-type {\n",
              "        vertical-align: middle;\n",
              "    }\n",
              "\n",
              "    .dataframe tbody tr th {\n",
              "        vertical-align: top;\n",
              "    }\n",
              "\n",
              "    .dataframe thead th {\n",
              "        text-align: right;\n",
              "    }\n",
              "</style>\n",
              "<table border=\"1\" class=\"dataframe\">\n",
              "  <thead>\n",
              "    <tr style=\"text-align: right;\">\n",
              "      <th></th>\n",
              "      <th>Wind_Speed_1</th>\n",
              "      <th>Wind_Dir_1</th>\n",
              "      <th>Wind_Speed_2</th>\n",
              "      <th>Wind_Dir_2</th>\n",
              "      <th>Solar_Rad</th>\n",
              "      <th>Diffuse_Rad</th>\n",
              "      <th>Dew_Pt</th>\n",
              "      <th>Batt_Voltage</th>\n",
              "      <th>date_time</th>\n",
              "      <th>Time</th>\n",
              "      <th>date</th>\n",
              "      <th>date_time_formatted</th>\n",
              "    </tr>\n",
              "  </thead>\n",
              "  <tbody>\n",
              "    <tr>\n",
              "      <th>0</th>\n",
              "      <td>4.833333</td>\n",
              "      <td>104.111111</td>\n",
              "      <td>3.555556</td>\n",
              "      <td>97.0</td>\n",
              "      <td>603.555556</td>\n",
              "      <td>563.333333</td>\n",
              "      <td>16.133333</td>\n",
              "      <td>14.1</td>\n",
              "      <td>01/02/ 2013    -    10:47</td>\n",
              "      <td>10:47</td>\n",
              "      <td>2013-02-01</td>\n",
              "      <td>2013-02-01 10:47</td>\n",
              "    </tr>\n",
              "    <tr>\n",
              "      <th>1</th>\n",
              "      <td>3.940000</td>\n",
              "      <td>107.200000</td>\n",
              "      <td>2.780000</td>\n",
              "      <td>120.3</td>\n",
              "      <td>615.300000</td>\n",
              "      <td>576.300000</td>\n",
              "      <td>16.234000</td>\n",
              "      <td>14.1</td>\n",
              "      <td>01/02/ 2013    -    10:59</td>\n",
              "      <td>10:59</td>\n",
              "      <td>2013-02-01</td>\n",
              "      <td>2013-02-01 10:59</td>\n",
              "    </tr>\n",
              "    <tr>\n",
              "      <th>2</th>\n",
              "      <td>5.640000</td>\n",
              "      <td>101.800000</td>\n",
              "      <td>4.150000</td>\n",
              "      <td>107.1</td>\n",
              "      <td>627.200000</td>\n",
              "      <td>589.200000</td>\n",
              "      <td>16.011000</td>\n",
              "      <td>14.1</td>\n",
              "      <td>01/02/ 2013    -    11:09</td>\n",
              "      <td>11:09</td>\n",
              "      <td>2013-02-01</td>\n",
              "      <td>2013-02-01 11:09</td>\n",
              "    </tr>\n",
              "    <tr>\n",
              "      <th>3</th>\n",
              "      <td>4.800000</td>\n",
              "      <td>109.000000</td>\n",
              "      <td>3.350000</td>\n",
              "      <td>121.5</td>\n",
              "      <td>635.300000</td>\n",
              "      <td>597.800000</td>\n",
              "      <td>16.006000</td>\n",
              "      <td>14.1</td>\n",
              "      <td>01/02/ 2013    -    11:19</td>\n",
              "      <td>11:19</td>\n",
              "      <td>2013-02-01</td>\n",
              "      <td>2013-02-01 11:19</td>\n",
              "    </tr>\n",
              "    <tr>\n",
              "      <th>4</th>\n",
              "      <td>5.920000</td>\n",
              "      <td>95.700000</td>\n",
              "      <td>4.270000</td>\n",
              "      <td>92.0</td>\n",
              "      <td>641.900000</td>\n",
              "      <td>606.200000</td>\n",
              "      <td>15.843000</td>\n",
              "      <td>14.1</td>\n",
              "      <td>01/02/ 2013    -    11:29</td>\n",
              "      <td>11:29</td>\n",
              "      <td>2013-02-01</td>\n",
              "      <td>2013-02-01 11:29</td>\n",
              "    </tr>\n",
              "  </tbody>\n",
              "</table>\n",
              "</div>"
            ],
            "text/plain": [
              "   Wind_Speed_1  Wind_Dir_1  ...        date  date_time_formatted\n",
              "0      4.833333  104.111111  ...  2013-02-01     2013-02-01 10:47\n",
              "1      3.940000  107.200000  ...  2013-02-01     2013-02-01 10:59\n",
              "2      5.640000  101.800000  ...  2013-02-01     2013-02-01 11:09\n",
              "3      4.800000  109.000000  ...  2013-02-01     2013-02-01 11:19\n",
              "4      5.920000   95.700000  ...  2013-02-01     2013-02-01 11:29\n",
              "\n",
              "[5 rows x 12 columns]"
            ]
          },
          "metadata": {
            "tags": []
          },
          "execution_count": 6
        }
      ]
    },
    {
      "cell_type": "code",
      "metadata": {
        "colab": {
          "base_uri": "https://localhost:8080/",
          "height": 195
        },
        "id": "TzuOwJfzI9q7",
        "outputId": "36417633-d561-4fdc-e006-8023a2331fec"
      },
      "source": [
        "df=df.drop(df.iloc[:,1:],axis=1)\r\n",
        "df.head()"
      ],
      "execution_count": null,
      "outputs": [
        {
          "output_type": "execute_result",
          "data": {
            "text/html": [
              "<div>\n",
              "<style scoped>\n",
              "    .dataframe tbody tr th:only-of-type {\n",
              "        vertical-align: middle;\n",
              "    }\n",
              "\n",
              "    .dataframe tbody tr th {\n",
              "        vertical-align: top;\n",
              "    }\n",
              "\n",
              "    .dataframe thead th {\n",
              "        text-align: right;\n",
              "    }\n",
              "</style>\n",
              "<table border=\"1\" class=\"dataframe\">\n",
              "  <thead>\n",
              "    <tr style=\"text-align: right;\">\n",
              "      <th></th>\n",
              "      <th>Wind_Speed_1</th>\n",
              "    </tr>\n",
              "  </thead>\n",
              "  <tbody>\n",
              "    <tr>\n",
              "      <th>0</th>\n",
              "      <td>4.833333</td>\n",
              "    </tr>\n",
              "    <tr>\n",
              "      <th>1</th>\n",
              "      <td>3.940000</td>\n",
              "    </tr>\n",
              "    <tr>\n",
              "      <th>2</th>\n",
              "      <td>5.640000</td>\n",
              "    </tr>\n",
              "    <tr>\n",
              "      <th>3</th>\n",
              "      <td>4.800000</td>\n",
              "    </tr>\n",
              "    <tr>\n",
              "      <th>4</th>\n",
              "      <td>5.920000</td>\n",
              "    </tr>\n",
              "  </tbody>\n",
              "</table>\n",
              "</div>"
            ],
            "text/plain": [
              "   Wind_Speed_1\n",
              "0      4.833333\n",
              "1      3.940000\n",
              "2      5.640000\n",
              "3      4.800000\n",
              "4      5.920000"
            ]
          },
          "metadata": {
            "tags": []
          },
          "execution_count": 7
        }
      ]
    },
    {
      "cell_type": "code",
      "metadata": {
        "colab": {
          "base_uri": "https://localhost:8080/",
          "height": 337
        },
        "id": "FdjhQdtFJkE9",
        "outputId": "8e6df0c8-0004-4228-9079-51052ed744bb"
      },
      "source": [
        "df['Wind_Speed_1'].plot(figsize=(12,5))"
      ],
      "execution_count": null,
      "outputs": [
        {
          "output_type": "execute_result",
          "data": {
            "text/plain": [
              "<matplotlib.axes._subplots.AxesSubplot at 0x7f2566a91160>"
            ]
          },
          "metadata": {
            "tags": []
          },
          "execution_count": 8
        },
        {
          "output_type": "display_data",
          "data": {
            "image/png": "[encoded data removed]",
            "text/plain": [
              "<Figure size 864x360 with 1 Axes>"
            ]
          },
          "metadata": {
            "tags": [],
            "needs_background": "light"
          }
        }
      ]
    },
    {
      "cell_type": "code",
      "metadata": {
        "id": "9Lk014OGK9HZ"
      },
      "source": [
        ""
      ],
      "execution_count": null,
      "outputs": []
    },
    {
      "cell_type": "markdown",
      "metadata": {
        "id": "lEiRqYA6LCsC"
      },
      "source": [
        "**CHECKING FOR STATIONARITY**"
      ]
    },
    {
      "cell_type": "code",
      "metadata": {
        "colab": {
          "base_uri": "https://localhost:8080/"
        },
        "id": "fn6bC8IGLJ4b",
        "outputId": "54d83754-8c0d-4ead-e14d-2d8987c9b3d5"
      },
      "source": [
        "from statsmodels.tsa.stattools import adfuller\r\n",
        "def adf_test(dataset):\r\n",
        "     dftest = adfuller(dataset, autolag = 'AIC')\r\n",
        "     print(\"1. ADF : \",dftest[0])\r\n",
        "     print(\"2. P-Value : \", dftest[1])\r\n",
        "     print(\"3. Num Of Lags : \", dftest[2])\r\n",
        "     print(\"4. Num Of Observations Used For ADF Regression:\",      dftest[3])\r\n",
        "     print(\"5. Critical Values :\")\r\n",
        "     for key, val in dftest[4].items():\r\n",
        "         print(\"\\t\",key, \": \", val)\r\n",
        "adf_test(df['Wind_Speed_1'])"
      ],
      "execution_count": null,
      "outputs": [
        {
          "output_type": "stream",
          "text": [
            "1. ADF :  -11.223018225504484\n",
            "2. P-Value :  1.9918157555100237e-20\n",
            "3. Num Of Lags :  41\n",
            "4. Num Of Observations Used For ADF Regression: 15794\n",
            "5. Critical Values :\n",
            "\t 1% :  -3.430764104288153\n",
            "\t 5% :  -2.8617230168568444\n",
            "\t 10% :  -2.5668674153382516\n"
          ],
          "name": "stdout"
        }
      ]
    },
    {
      "cell_type": "code",
      "metadata": {
        "colab": {
          "base_uri": "https://localhost:8080/"
        },
        "id": "gz33S_BsMxmV",
        "outputId": "03ce944a-5856-448c-ba66-aaa0e9951e33"
      },
      "source": [
        "!pip install pmdarima"
      ],
      "execution_count": null,
      "outputs": [
        {
          "output_type": "stream",
          "text": [
            "Requirement already satisfied: pmdarima in /usr/local/lib/python3.6/dist-packages (1.8.0)\n",
            "Requirement already satisfied: pandas>=0.19 in /usr/local/lib/python3.6/dist-packages (from pmdarima) (1.1.5)\n",
            "Requirement already satisfied: Cython<0.29.18,>=0.29 in /usr/local/lib/python3.6/dist-packages (from pmdarima) (0.29.17)\n",
            "Requirement already satisfied: scikit-learn>=0.22 in /usr/local/lib/python3.6/dist-packages (from pmdarima) (0.22.2.post1)\n",
            "Requirement already satisfied: statsmodels!=0.12.0,>=0.11 in /usr/local/lib/python3.6/dist-packages (from pmdarima) (0.12.1)\n",
            "Requirement already satisfied: setuptools!=50.0.0,>=38.6.0 in /usr/local/lib/python3.6/dist-packages (from pmdarima) (51.3.3)\n",
            "Requirement already satisfied: urllib3 in /usr/local/lib/python3.6/dist-packages (from pmdarima) (1.24.3)\n",
            "Requirement already satisfied: scipy>=1.3.2 in /usr/local/lib/python3.6/dist-packages (from pmdarima) (1.4.1)\n",
            "Requirement already satisfied: numpy>=1.17.3 in /usr/local/lib/python3.6/dist-packages (from pmdarima) (1.19.5)\n",
            "Requirement already satisfied: joblib>=0.11 in /usr/local/lib/python3.6/dist-packages (from pmdarima) (1.0.0)\n",
            "Requirement already satisfied: python-dateutil>=2.7.3 in /usr/local/lib/python3.6/dist-packages (from pandas>=0.19->pmdarima) (2.8.1)\n",
            "Requirement already satisfied: pytz>=2017.2 in /usr/local/lib/python3.6/dist-packages (from pandas>=0.19->pmdarima) (2018.9)\n",
            "Requirement already satisfied: patsy>=0.5 in /usr/local/lib/python3.6/dist-packages (from statsmodels!=0.12.0,>=0.11->pmdarima) (0.5.1)\n",
            "Requirement already satisfied: six>=1.5 in /usr/local/lib/python3.6/dist-packages (from python-dateutil>=2.7.3->pandas>=0.19->pmdarima) (1.15.0)\n"
          ],
          "name": "stdout"
        }
      ]
    },
    {
      "cell_type": "code",
      "metadata": {
        "colab": {
          "base_uri": "https://localhost:8080/"
        },
        "id": "ML2MamkyRups",
        "outputId": "e20488cd-1786-4cc0-89c7-563e52ad0853"
      },
      "source": [
        "from pmdarima import arima\r\n",
        "d=arima.ndiffs(df)\r\n",
        "d\r\n"
      ],
      "execution_count": null,
      "outputs": [
        {
          "output_type": "execute_result",
          "data": {
            "text/plain": [
              "1"
            ]
          },
          "metadata": {
            "tags": []
          },
          "execution_count": 25
        }
      ]
    },
    {
      "cell_type": "code",
      "metadata": {
        "colab": {
          "base_uri": "https://localhost:8080/"
        },
        "id": "h-JI2z9mLZ2V",
        "outputId": "aa02fc78-7293-4ad5-e3c0-2af0b7c07ff6"
      },
      "source": [
        "#Since p>0.05 data is not stationary.\r\n",
        "#To make it stationary differncing is done.\r\n",
        "#The pmdarima library is used to find the order of differencing to make the data stationary.\r\n",
        "\r\n",
        "from pmdarima import auto_arima\r\n",
        "stepwise_fit=auto_arima(df[\"Wind_Speed_1\"],trace=True,suppress_warning=True)\r\n",
        "\r\n"
      ],
      "execution_count": null,
      "outputs": [
        {
          "output_type": "stream",
          "text": [
            "Performing stepwise search to minimize aic\n",
            " ARIMA(2,1,2)(0,0,0)[0] intercept   : AIC=93191.991, Time=8.70 sec\n",
            " ARIMA(0,1,0)(0,0,0)[0] intercept   : AIC=100965.234, Time=0.48 sec\n",
            " ARIMA(1,1,0)(0,0,0)[0] intercept   : AIC=97266.852, Time=1.06 sec\n",
            " ARIMA(0,1,1)(0,0,0)[0] intercept   : AIC=93307.774, Time=4.13 sec\n",
            " ARIMA(0,1,0)(0,0,0)[0]             : AIC=100963.234, Time=0.29 sec\n",
            " ARIMA(1,1,2)(0,0,0)[0] intercept   : AIC=inf, Time=42.79 sec\n",
            " ARIMA(2,1,1)(0,0,0)[0] intercept   : AIC=93175.647, Time=8.50 sec\n",
            " ARIMA(1,1,1)(0,0,0)[0] intercept   : AIC=93188.016, Time=7.48 sec\n",
            " ARIMA(2,1,0)(0,0,0)[0] intercept   : AIC=95750.096, Time=1.71 sec\n",
            " ARIMA(3,1,1)(0,0,0)[0] intercept   : AIC=93164.024, Time=14.25 sec\n",
            " ARIMA(3,1,0)(0,0,0)[0] intercept   : AIC=94926.895, Time=2.36 sec\n",
            " ARIMA(4,1,1)(0,0,0)[0] intercept   : AIC=93145.182, Time=21.28 sec\n",
            " ARIMA(4,1,0)(0,0,0)[0] intercept   : AIC=94417.859, Time=3.34 sec\n",
            " ARIMA(5,1,1)(0,0,0)[0] intercept   : AIC=93096.750, Time=37.71 sec\n",
            " ARIMA(5,1,0)(0,0,0)[0] intercept   : AIC=94145.046, Time=3.43 sec\n",
            " ARIMA(5,1,2)(0,0,0)[0] intercept   : AIC=inf, Time=61.30 sec\n",
            " ARIMA(4,1,2)(0,0,0)[0] intercept   : AIC=93161.698, Time=44.51 sec\n",
            " ARIMA(5,1,1)(0,0,0)[0]             : AIC=93094.822, Time=8.60 sec\n",
            " ARIMA(4,1,1)(0,0,0)[0]             : AIC=93143.187, Time=5.77 sec\n",
            " ARIMA(5,1,0)(0,0,0)[0]             : AIC=94143.047, Time=1.43 sec\n",
            " ARIMA(5,1,2)(0,0,0)[0]             : AIC=inf, Time=20.90 sec\n",
            " ARIMA(4,1,0)(0,0,0)[0]             : AIC=94415.859, Time=1.04 sec\n",
            " ARIMA(4,1,2)(0,0,0)[0]             : AIC=93159.702, Time=13.36 sec\n",
            "\n",
            "Best model:  ARIMA(5,1,1)(0,0,0)[0]          \n",
            "Total fit time: 314.452 seconds\n"
          ],
          "name": "stdout"
        }
      ]
    },
    {
      "cell_type": "code",
      "metadata": {
        "colab": {
          "base_uri": "https://localhost:8080/"
        },
        "id": "PvE7kOo1MvDc",
        "outputId": "f8fc0478-da7e-48db-fb5e-6eaf785490fc"
      },
      "source": [
        "#Best ARIMA model seems to be of order (5,1,1) with minimum AIC score of 93094.822\r\n",
        "train=df.iloc[:-1000]\r\n",
        "test=df.iloc[-1000:]\r\n",
        "train.shape,test.shape"
      ],
      "execution_count": null,
      "outputs": [
        {
          "output_type": "execute_result",
          "data": {
            "text/plain": [
              "((14836, 1), (1000, 1))"
            ]
          },
          "metadata": {
            "tags": []
          },
          "execution_count": 49
        }
      ]
    },
    {
      "cell_type": "code",
      "metadata": {
        "colab": {
          "base_uri": "https://localhost:8080/",
          "height": 1000
        },
        "id": "EMI0f1tYPJbj",
        "outputId": "876dae1f-2907-4e5d-d3bb-15725141520f"
      },
      "source": [
        "from statsmodels.tsa.arima_model import ARIMA\r\n",
        "model=ARIMA(df,order=(5,1,1))\r\n",
        "model_fit=model.fit()\r\n",
        "model_fit.summary()"
      ],
      "execution_count": null,
      "outputs": [
        {
          "output_type": "stream",
          "text": [
            "/usr/local/lib/python3.6/dist-packages/statsmodels/tsa/arima_model.py:472: FutureWarning: \n",
            "statsmodels.tsa.arima_model.ARMA and statsmodels.tsa.arima_model.ARIMA have\n",
            "been deprecated in favor of statsmodels.tsa.arima.model.ARIMA (note the .\n",
            "between arima and model) and\n",
            "statsmodels.tsa.SARIMAX. These will be removed after the 0.12 release.\n",
            "\n",
            "statsmodels.tsa.arima.model.ARIMA makes use of the statespace framework and\n",
            "is both well tested and maintained.\n",
            "\n",
            "To silence this warning and continue using ARMA and ARIMA until they are\n",
            "removed, use:\n",
            "\n",
            "import warnings\n",
            "warnings.filterwarnings('ignore', 'statsmodels.tsa.arima_model.ARMA',\n",
            "                        FutureWarning)\n",
            "warnings.filterwarnings('ignore', 'statsmodels.tsa.arima_model.ARIMA',\n",
            "                        FutureWarning)\n",
            "\n",
            "  warnings.warn(ARIMA_DEPRECATION_WARN, FutureWarning)\n",
            "/usr/local/lib/python3.6/dist-packages/statsmodels/tsa/arima_model.py:472: FutureWarning: \n",
            "statsmodels.tsa.arima_model.ARMA and statsmodels.tsa.arima_model.ARIMA have\n",
            "been deprecated in favor of statsmodels.tsa.arima.model.ARIMA (note the .\n",
            "between arima and model) and\n",
            "statsmodels.tsa.SARIMAX. These will be removed after the 0.12 release.\n",
            "\n",
            "statsmodels.tsa.arima.model.ARIMA makes use of the statespace framework and\n",
            "is both well tested and maintained.\n",
            "\n",
            "To silence this warning and continue using ARMA and ARIMA until they are\n",
            "removed, use:\n",
            "\n",
            "import warnings\n",
            "warnings.filterwarnings('ignore', 'statsmodels.tsa.arima_model.ARMA',\n",
            "                        FutureWarning)\n",
            "warnings.filterwarnings('ignore', 'statsmodels.tsa.arima_model.ARIMA',\n",
            "                        FutureWarning)\n",
            "\n",
            "  warnings.warn(ARIMA_DEPRECATION_WARN, FutureWarning)\n"
          ],
          "name": "stderr"
        },
        {
          "output_type": "execute_result",
          "data": {
            "text/html": [
              "<table class=\"simpletable\">\n",
              "<caption>ARIMA Model Results</caption>\n",
              "<tr>\n",
              "  <th>Dep. Variable:</th>  <td>D.Wind_Speed_1</td>  <th>  No. Observations:  </th>    <td>15835</td>  \n",
              "</tr>\n",
              "<tr>\n",
              "  <th>Model:</th>          <td>ARIMA(5, 1, 1)</td>  <th>  Log Likelihood     </th> <td>-46540.375</td>\n",
              "</tr>\n",
              "<tr>\n",
              "  <th>Method:</th>             <td>css-mle</td>     <th>  S.D. of innovations</th>    <td>4.573</td>  \n",
              "</tr>\n",
              "<tr>\n",
              "  <th>Date:</th>          <td>Thu, 28 Jan 2021</td> <th>  AIC                </th>  <td>93096.750</td>\n",
              "</tr>\n",
              "<tr>\n",
              "  <th>Time:</th>              <td>09:47:31</td>     <th>  BIC                </th>  <td>93158.110</td>\n",
              "</tr>\n",
              "<tr>\n",
              "  <th>Sample:</th>                <td>1</td>        <th>  HQIC               </th>  <td>93117.054</td>\n",
              "</tr>\n",
              "<tr>\n",
              "  <th></th>                       <td> </td>        <th>                     </th>      <td> </td>    \n",
              "</tr>\n",
              "</table>\n",
              "<table class=\"simpletable\">\n",
              "<tr>\n",
              "            <td></td>              <th>coef</th>     <th>std err</th>      <th>z</th>      <th>P>|z|</th>  <th>[0.025</th>    <th>0.975]</th>  \n",
              "</tr>\n",
              "<tr>\n",
              "  <th>const</th>                <td>    0.0003</td> <td>    0.001</td> <td>    0.269</td> <td> 0.788</td> <td>   -0.002</td> <td>    0.002</td>\n",
              "</tr>\n",
              "<tr>\n",
              "  <th>ar.L1.D.Wind_Speed_1</th> <td>    0.1864</td> <td>    0.008</td> <td>   21.941</td> <td> 0.000</td> <td>    0.170</td> <td>    0.203</td>\n",
              "</tr>\n",
              "<tr>\n",
              "  <th>ar.L2.D.Wind_Speed_1</th> <td>    0.0905</td> <td>    0.008</td> <td>   10.693</td> <td> 0.000</td> <td>    0.074</td> <td>    0.107</td>\n",
              "</tr>\n",
              "<tr>\n",
              "  <th>ar.L3.D.Wind_Speed_1</th> <td>    0.0745</td> <td>    0.008</td> <td>    8.821</td> <td> 0.000</td> <td>    0.058</td> <td>    0.091</td>\n",
              "</tr>\n",
              "<tr>\n",
              "  <th>ar.L4.D.Wind_Speed_1</th> <td>    0.0675</td> <td>    0.008</td> <td>    8.012</td> <td> 0.000</td> <td>    0.051</td> <td>    0.084</td>\n",
              "</tr>\n",
              "<tr>\n",
              "  <th>ar.L5.D.Wind_Speed_1</th> <td>    0.0684</td> <td>    0.008</td> <td>    8.157</td> <td> 0.000</td> <td>    0.052</td> <td>    0.085</td>\n",
              "</tr>\n",
              "<tr>\n",
              "  <th>ma.L1.D.Wind_Speed_1</th> <td>   -0.9850</td> <td>    0.003</td> <td> -341.043</td> <td> 0.000</td> <td>   -0.991</td> <td>   -0.979</td>\n",
              "</tr>\n",
              "</table>\n",
              "<table class=\"simpletable\">\n",
              "<caption>Roots</caption>\n",
              "<tr>\n",
              "    <td></td>   <th>            Real</th>  <th>         Imaginary</th> <th>         Modulus</th>  <th>        Frequency</th>\n",
              "</tr>\n",
              "<tr>\n",
              "  <th>AR.1</th> <td>           1.2977</td> <td>          -0.0000j</td> <td>           1.2977</td> <td>          -0.0000</td>\n",
              "</tr>\n",
              "<tr>\n",
              "  <th>AR.2</th> <td>           0.4274</td> <td>          -1.7052j</td> <td>           1.7579</td> <td>          -0.2109</td>\n",
              "</tr>\n",
              "<tr>\n",
              "  <th>AR.3</th> <td>           0.4274</td> <td>          +1.7052j</td> <td>           1.7579</td> <td>           0.2109</td>\n",
              "</tr>\n",
              "<tr>\n",
              "  <th>AR.4</th> <td>          -1.5697</td> <td>          -1.0876j</td> <td>           1.9097</td> <td>          -0.4036</td>\n",
              "</tr>\n",
              "<tr>\n",
              "  <th>AR.5</th> <td>          -1.5697</td> <td>          +1.0876j</td> <td>           1.9097</td> <td>           0.4036</td>\n",
              "</tr>\n",
              "<tr>\n",
              "  <th>MA.1</th> <td>           1.0153</td> <td>          +0.0000j</td> <td>           1.0153</td> <td>           0.0000</td>\n",
              "</tr>\n",
              "</table>"
            ],
            "text/plain": [
              "<class 'statsmodels.iolib.summary.Summary'>\n",
              "\"\"\"\n",
              "                             ARIMA Model Results                              \n",
              "==============================================================================\n",
              "Dep. Variable:         D.Wind_Speed_1   No. Observations:                15835\n",
              "Model:                 ARIMA(5, 1, 1)   Log Likelihood              -46540.375\n",
              "Method:                       css-mle   S.D. of innovations              4.573\n",
              "Date:                Thu, 28 Jan 2021   AIC                          93096.750\n",
              "Time:                        09:47:31   BIC                          93158.110\n",
              "Sample:                             1   HQIC                         93117.054\n",
              "                                                                              \n",
              "========================================================================================\n",
              "                           coef    std err          z      P>|z|      [0.025      0.975]\n",
              "----------------------------------------------------------------------------------------\n",
              "const                    0.0003      0.001      0.269      0.788      -0.002       0.002\n",
              "ar.L1.D.Wind_Speed_1     0.1864      0.008     21.941      0.000       0.170       0.203\n",
              "ar.L2.D.Wind_Speed_1     0.0905      0.008     10.693      0.000       0.074       0.107\n",
              "ar.L3.D.Wind_Speed_1     0.0745      0.008      8.821      0.000       0.058       0.091\n",
              "ar.L4.D.Wind_Speed_1     0.0675      0.008      8.012      0.000       0.051       0.084\n",
              "ar.L5.D.Wind_Speed_1     0.0684      0.008      8.157      0.000       0.052       0.085\n",
              "ma.L1.D.Wind_Speed_1    -0.9850      0.003   -341.043      0.000      -0.991      -0.979\n",
              "                                    Roots                                    \n",
              "=============================================================================\n",
              "                  Real          Imaginary           Modulus         Frequency\n",
              "-----------------------------------------------------------------------------\n",
              "AR.1            1.2977           -0.0000j            1.2977           -0.0000\n",
              "AR.2            0.4274           -1.7052j            1.7579           -0.2109\n",
              "AR.3            0.4274           +1.7052j            1.7579            0.2109\n",
              "AR.4           -1.5697           -1.0876j            1.9097           -0.4036\n",
              "AR.5           -1.5697           +1.0876j            1.9097            0.4036\n",
              "MA.1            1.0153           +0.0000j            1.0153            0.0000\n",
              "-----------------------------------------------------------------------------\n",
              "\"\"\""
            ]
          },
          "metadata": {
            "tags": []
          },
          "execution_count": 50
        }
      ]
    },
    {
      "cell_type": "code",
      "metadata": {
        "id": "t8-QdhNIlBJU"
      },
      "source": [
        ""
      ],
      "execution_count": null,
      "outputs": []
    },
    {
      "cell_type": "markdown",
      "metadata": {
        "id": "FOY3vFG1lB8K"
      },
      "source": [
        "**PLOTTING ACTUAL VS PREDICTIONS**"
      ]
    },
    {
      "cell_type": "code",
      "metadata": {
        "colab": {
          "base_uri": "https://localhost:8080/",
          "height": 221
        },
        "id": "_RmINMH4PtbQ",
        "outputId": "aa30d043-bdf6-43af-ddb0-95a3e3a9c712"
      },
      "source": [
        "plt.rcParams['figure.figsize']=(20,3)\r\n",
        "start=len(train)\r\n",
        "end=len(train)+len(test)-1\r\n",
        "pred=model_fit.predict(start=start,end=end,typ='levels').rename('ARIMA Predictions')\r\n",
        "pred.plot(legend=True)\r\n",
        "test['Wind_Speed_1'].plot(legend=True)"
      ],
      "execution_count": null,
      "outputs": [
        {
          "output_type": "execute_result",
          "data": {
            "text/plain": [
              "<matplotlib.axes._subplots.AxesSubplot at 0x7f2545cc0470>"
            ]
          },
          "metadata": {
            "tags": []
          },
          "execution_count": 54
        },
        {
          "output_type": "display_data",
          "data": {
            "image/png": "[encoded data removed]",
            "text/plain": [
              "<Figure size 1440x216 with 1 Axes>"
            ]
          },
          "metadata": {
            "tags": [],
            "needs_background": "light"
          }
        }
      ]
    },
    {
      "cell_type": "code",
      "metadata": {
        "colab": {
          "base_uri": "https://localhost:8080/",
          "height": 222
        },
        "id": "LUM5bx22RNmU",
        "outputId": "2df12a54-2add-4e68-c6aa-b80bdf5dade4"
      },
      "source": [
        "##plottig last 200 values alone for better visualization\r\n",
        "pred[800:].plot(legend=True)\r\n",
        "test['Wind_Speed_1'][800:].plot(legend=True)"
      ],
      "execution_count": null,
      "outputs": [
        {
          "output_type": "execute_result",
          "data": {
            "text/plain": [
              "<matplotlib.axes._subplots.AxesSubplot at 0x7f2545a05668>"
            ]
          },
          "metadata": {
            "tags": []
          },
          "execution_count": 58
        },
        {
          "output_type": "display_data",
          "data": {
            "image/png": "[encoded data removed]",
            "text/plain": [
              "<Figure size 1440x216 with 1 Axes>"
            ]
          },
          "metadata": {
            "tags": [],
            "needs_background": "light"
          }
        }
      ]
    },
    {
      "cell_type": "code",
      "metadata": {
        "id": "P-SRGqheZlrh"
      },
      "source": [
        ""
      ],
      "execution_count": null,
      "outputs": []
    },
    {
      "cell_type": "markdown",
      "metadata": {
        "id": "1jGhVy15Ztfk"
      },
      "source": [
        "**CHECKING ACCURACY METRIC**"
      ]
    },
    {
      "cell_type": "code",
      "metadata": {
        "colab": {
          "base_uri": "https://localhost:8080/"
        },
        "id": "DZFQkk2GaI5r",
        "outputId": "9f796662-1fed-43b5-c08a-f1b0c295282b"
      },
      "source": [
        "from sklearn.metrics import mean_squared_error\r\n",
        "from math import sqrt\r\n",
        "test['Wind_Speed_1'].mean()\r\n",
        "rmse=sqrt(mean_squared_error(pred,test['Wind_Speed_1']))\r\n",
        "print(\"rmse: \",rmse)"
      ],
      "execution_count": null,
      "outputs": [
        {
          "output_type": "stream",
          "text": [
            "rmse:  5.265664919671761\n"
          ],
          "name": "stdout"
        }
      ]
    },
    {
      "cell_type": "code",
      "metadata": {
        "id": "Ey81m36gaSbl"
      },
      "source": [
        ""
      ],
      "execution_count": null,
      "outputs": []
    },
    {
      "cell_type": "code",
      "metadata": {
        "id": "lJzoTvo8cA-K"
      },
      "source": [
        ""
      ],
      "execution_count": null,
      "outputs": []
    },
    {
      "cell_type": "code",
      "metadata": {
        "id": "KWlfNSC5cBBi"
      },
      "source": [
        ""
      ],
      "execution_count": null,
      "outputs": []
    }
  ]
}